{
 "cells": [
  {
   "cell_type": "code",
   "execution_count": 1,
   "metadata": {},
   "outputs": [],
   "source": [
    "import mysql.connector as sql\n",
    "from sqlalchemy import create_engine\n",
    "import pandas as pd\n",
    "import json"
   ]
  },
  {
   "cell_type": "code",
   "execution_count": 2,
   "metadata": {},
   "outputs": [],
   "source": [
    "with open('config.json', 'r') as openfile:\n",
    "# Reading from json file\n",
    "    json_object = json.load(openfile)\n",
    "\n",
    "host=json_object['host']\n",
    "user=json_object['user']\n",
    "passw=json_object['passw']\n",
    "port=json_object['port']\n",
    "db=json_object['db']\n",
    "# prod credentials\n",
    "prdhost=json_object['prdhost']\n",
    "prduser=json_object['prduser']\n",
    "prdpassw=json_object['prdpassw']\n",
    "prdport=json_object['prdport']\n",
    "prddb=json_object['prddb']\n",
    "# differentiate factor for red/blue\n",
    "is_multi_queue=json_object['is_multi_queue']"
   ]
  },
  {
   "cell_type": "code",
   "execution_count": 3,
   "metadata": {},
   "outputs": [],
   "source": [
    "if is_multi_queue ==1:\n",
    "    factor_blue=str(json_object['blue_factor'])\n",
    "    factor_red=str(json_object['red_factor'])\n",
    "else:\n",
    "    factor_blue=\"0\"\n",
    "    factor_red=\"0\"\n"
   ]
  },
  {
   "cell_type": "code",
   "execution_count": 4,
   "metadata": {},
   "outputs": [
    {
     "data": {
      "text/html": [
       "<div>\n",
       "<style scoped>\n",
       "    .dataframe tbody tr th:only-of-type {\n",
       "        vertical-align: middle;\n",
       "    }\n",
       "\n",
       "    .dataframe tbody tr th {\n",
       "        vertical-align: top;\n",
       "    }\n",
       "\n",
       "    .dataframe thead th {\n",
       "        text-align: right;\n",
       "    }\n",
       "</style>\n",
       "<table border=\"1\" class=\"dataframe\">\n",
       "  <thead>\n",
       "    <tr style=\"text-align: right;\">\n",
       "      <th></th>\n",
       "      <th>program_id</th>\n",
       "      <th>modelunit_id</th>\n",
       "      <th>tenant_id</th>\n",
       "      <th>active_datetime</th>\n",
       "      <th>evaluator_instance</th>\n",
       "    </tr>\n",
       "  </thead>\n",
       "  <tbody>\n",
       "    <tr>\n",
       "      <th>0</th>\n",
       "      <td>468</td>\n",
       "      <td>1395</td>\n",
       "      <td>0</td>\n",
       "      <td>2021-06-08 04:18:45</td>\n",
       "      <td>default</td>\n",
       "    </tr>\n",
       "    <tr>\n",
       "      <th>1</th>\n",
       "      <td>468</td>\n",
       "      <td>1396</td>\n",
       "      <td>0</td>\n",
       "      <td>2021-06-08 04:18:45</td>\n",
       "      <td>default</td>\n",
       "    </tr>\n",
       "    <tr>\n",
       "      <th>2</th>\n",
       "      <td>468</td>\n",
       "      <td>1397</td>\n",
       "      <td>0</td>\n",
       "      <td>2021-06-08 04:18:45</td>\n",
       "      <td>default</td>\n",
       "    </tr>\n",
       "    <tr>\n",
       "      <th>3</th>\n",
       "      <td>468</td>\n",
       "      <td>1398</td>\n",
       "      <td>0</td>\n",
       "      <td>2021-06-08 04:18:45</td>\n",
       "      <td>default</td>\n",
       "    </tr>\n",
       "    <tr>\n",
       "      <th>4</th>\n",
       "      <td>468</td>\n",
       "      <td>1399</td>\n",
       "      <td>0</td>\n",
       "      <td>2021-06-08 04:18:45</td>\n",
       "      <td>default</td>\n",
       "    </tr>\n",
       "  </tbody>\n",
       "</table>\n",
       "</div>"
      ],
      "text/plain": [
       "   program_id  modelunit_id  tenant_id     active_datetime evaluator_instance\n",
       "0         468          1395          0 2021-06-08 04:18:45            default\n",
       "1         468          1396          0 2021-06-08 04:18:45            default\n",
       "2         468          1397          0 2021-06-08 04:18:45            default\n",
       "3         468          1398          0 2021-06-08 04:18:45            default\n",
       "4         468          1399          0 2021-06-08 04:18:45            default"
      ]
     },
     "execution_count": 4,
     "metadata": {},
     "output_type": "execute_result"
    }
   ],
   "source": [
    "try:\n",
    "    prod = create_engine(\"mysql+pymysql://{user}:{pw}@{host}:{port}/{db}\"\n",
    "    .format(host=prdhost, db=prddb, user=prduser, pw=prdpassw,port=prdport))\n",
    "    \n",
    "    with prod.connect() as prod_con:\n",
    "        program_prod=pd.read_sql_query(\"SELECT * FROM afiniti_3.program;\",prod)\n",
    "        activemodel_prod=pd.read_sql_query(\"SELECT * FROM afiniti_3.activemodelunits;\",prod)\n",
    "        team_rotation = pd.read_sql_query(\"SELECT Date,( case when Queue1 = -31 then 'Red' when Queue1 = -32 then 'Blue' else Team end)  as Team, Queue1 FROM siriusxmussatmap.`de.teamrotation` where date = curdate();\",prod)\n",
    "except:\n",
    "    print(\"Error while connecting to prod db...\")\n",
    "        \n",
    "prod_con.close()\n",
    "prod.dispose()\n",
    "\n",
    "activemodel_prod.head()"
   ]
  },
  {
   "cell_type": "code",
   "execution_count": 5,
   "metadata": {},
   "outputs": [],
   "source": [
    "# Create SQLAlchemy engine to connect to MySQL Database\n",
    "archival = create_engine(\"mysql+pymysql://{user}:{pw}@{host}:{port}/{db}\"\n",
    ".format(host= host, db=db, user=user, pw=passw,port=port))"
   ]
  },
  {
   "cell_type": "code",
   "execution_count": 6,
   "metadata": {},
   "outputs": [],
   "source": [
    "with archival.connect() as con:\n",
    "\n",
    "   # if is_multi_queue ==1:\n",
    "    evaluator_test1  = pd.read_sql_query(\"\"\"\n",
    "        SELECT * \n",
    "        FROM etl_dev.evaluator_test1\n",
    "        where id>(\n",
    "\n",
    "            select IFNULL(max(id),0) as id\n",
    "            from\n",
    "            (\n",
    "                select max(id) as id from etl_dev.eval_view_blue_test\n",
    "                union all\n",
    "                select max(id) as id from etl_dev.eval_view_red_test\n",
    "            ) temp\n",
    "        )\n",
    "        \"\"\", archival)\n",
    "   # else:\n",
    "   #     evaluator_test1 = pd.read_sql_query(\"SELECT * FROM etl_dev.evaluator_test1 where date(insert_time) = curdate()\", archival)\n",
    "    \n",
    "    activemodelunit_red = pd.read_sql_query(\"SELECT program_id,modelunit_id+\"+factor_red+\" as modelunit_id,tenant_id,active_datetime,evaluator_instance FROM activemodelunits_red_test;\", archival)\n",
    "    program_red = pd.read_sql_query('SELECT * FROM program_red_test;', archival)\n",
    "    activemodelunit_blue = pd.read_sql_query(\"SELECT program_id,modelunit_id+\"+factor_blue+\" as modelunit_id,tenant_id,active_datetime,evaluator_instance From activemodelunits_blue_test;\", archival)\n",
    "    program_blue = pd.read_sql_query('SELECT * FROM program_blue_test;', archival)\n",
    "    "
   ]
  },
  {
   "cell_type": "code",
   "execution_count": 7,
   "metadata": {},
   "outputs": [
    {
     "data": {
      "text/html": [
       "<div>\n",
       "<style scoped>\n",
       "    .dataframe tbody tr th:only-of-type {\n",
       "        vertical-align: middle;\n",
       "    }\n",
       "\n",
       "    .dataframe tbody tr th {\n",
       "        vertical-align: top;\n",
       "    }\n",
       "\n",
       "    .dataframe thead th {\n",
       "        text-align: right;\n",
       "    }\n",
       "</style>\n",
       "<table border=\"1\" class=\"dataframe\">\n",
       "  <thead>\n",
       "    <tr style=\"text-align: right;\">\n",
       "      <th></th>\n",
       "      <th>program_id</th>\n",
       "      <th>program_name</th>\n",
       "      <th>program_predicate</th>\n",
       "      <th>algorithm_name</th>\n",
       "      <th>sensor_key</th>\n",
       "      <th>program_rank</th>\n",
       "      <th>generated_on</th>\n",
       "    </tr>\n",
       "  </thead>\n",
       "  <tbody>\n",
       "    <tr>\n",
       "      <th>0</th>\n",
       "      <td>6</td>\n",
       "      <td>SXM_CA_Retention</td>\n",
       "      <td>VDN_IN(1,2,3)</td>\n",
       "      <td>diagonal</td>\n",
       "      <td>1</td>\n",
       "      <td>1</td>\n",
       "      <td>NaT</td>\n",
       "    </tr>\n",
       "    <tr>\n",
       "      <th>1</th>\n",
       "      <td>7</td>\n",
       "      <td>SXMUS_Retention_SIM</td>\n",
       "      <td>VDN_IN(116,112,115,113,114)&amp;SKILL_ANY(19,20,21...</td>\n",
       "      <td>diagonal</td>\n",
       "      <td>SXMUS_Retention_SIM</td>\n",
       "      <td>2</td>\n",
       "      <td>NaT</td>\n",
       "    </tr>\n",
       "    <tr>\n",
       "      <th>2</th>\n",
       "      <td>9</td>\n",
       "      <td>SXMUS_Retention_SIM</td>\n",
       "      <td>VDN_IN(116,112,115,113,114)&amp;SKILL_ANY(19,20,21...</td>\n",
       "      <td>diagonal</td>\n",
       "      <td>SXMUS_Retention_SIM</td>\n",
       "      <td>1</td>\n",
       "      <td>NaT</td>\n",
       "    </tr>\n",
       "    <tr>\n",
       "      <th>3</th>\n",
       "      <td>10</td>\n",
       "      <td>SXM_CA_GENERAL</td>\n",
       "      <td>VDN_IN(10,14,46,94,98,102)</td>\n",
       "      <td>diagonal</td>\n",
       "      <td>SXM_CA_GENERAL</td>\n",
       "      <td>2</td>\n",
       "      <td>NaT</td>\n",
       "    </tr>\n",
       "    <tr>\n",
       "      <th>4</th>\n",
       "      <td>11</td>\n",
       "      <td>SXM_CA_SALES</td>\n",
       "      <td>VDN_IN(106,90,86,78,74,70,54,30)</td>\n",
       "      <td>diagonal</td>\n",
       "      <td>SXM_CA_SALES</td>\n",
       "      <td>3</td>\n",
       "      <td>NaT</td>\n",
       "    </tr>\n",
       "  </tbody>\n",
       "</table>\n",
       "</div>"
      ],
      "text/plain": [
       "   program_id         program_name  \\\n",
       "0           6     SXM_CA_Retention   \n",
       "1           7  SXMUS_Retention_SIM   \n",
       "2           9  SXMUS_Retention_SIM   \n",
       "3          10       SXM_CA_GENERAL   \n",
       "4          11         SXM_CA_SALES   \n",
       "\n",
       "                                   program_predicate algorithm_name  \\\n",
       "0                                      VDN_IN(1,2,3)       diagonal   \n",
       "1  VDN_IN(116,112,115,113,114)&SKILL_ANY(19,20,21...       diagonal   \n",
       "2  VDN_IN(116,112,115,113,114)&SKILL_ANY(19,20,21...       diagonal   \n",
       "3                         VDN_IN(10,14,46,94,98,102)       diagonal   \n",
       "4                   VDN_IN(106,90,86,78,74,70,54,30)       diagonal   \n",
       "\n",
       "            sensor_key  program_rank generated_on  \n",
       "0                    1             1          NaT  \n",
       "1  SXMUS_Retention_SIM             2          NaT  \n",
       "2  SXMUS_Retention_SIM             1          NaT  \n",
       "3       SXM_CA_GENERAL             2          NaT  \n",
       "4         SXM_CA_SALES             3          NaT  "
      ]
     },
     "execution_count": 7,
     "metadata": {},
     "output_type": "execute_result"
    }
   ],
   "source": [
    "program_red.head()"
   ]
  },
  {
   "cell_type": "code",
   "execution_count": 8,
   "metadata": {},
   "outputs": [],
   "source": [
    "sql_df = evaluator_test1\n",
    "sql_df.columns=['id', 'evaluator_id', 'insert_time', 'calgroup_bandwidth']"
   ]
  },
  {
   "cell_type": "code",
   "execution_count": 9,
   "metadata": {},
   "outputs": [
    {
     "data": {
      "text/html": [
       "<div>\n",
       "<style scoped>\n",
       "    .dataframe tbody tr th:only-of-type {\n",
       "        vertical-align: middle;\n",
       "    }\n",
       "\n",
       "    .dataframe tbody tr th {\n",
       "        vertical-align: top;\n",
       "    }\n",
       "\n",
       "    .dataframe thead th {\n",
       "        text-align: right;\n",
       "    }\n",
       "</style>\n",
       "<table border=\"1\" class=\"dataframe\">\n",
       "  <thead>\n",
       "    <tr style=\"text-align: right;\">\n",
       "      <th></th>\n",
       "      <th>id</th>\n",
       "      <th>evaluator_id</th>\n",
       "      <th>insert_time</th>\n",
       "      <th>calgroup_bandwidth</th>\n",
       "    </tr>\n",
       "  </thead>\n",
       "  <tbody>\n",
       "    <tr>\n",
       "      <th>0</th>\n",
       "      <td>2</td>\n",
       "      <td>default_2021_05_26-13_59_16</td>\n",
       "      <td>2021-05-26 19:55:06</td>\n",
       "      <td>{\\n  \"calgroup_bandwidth\": [\\n    {\\n      \"Ba...</td>\n",
       "    </tr>\n",
       "    <tr>\n",
       "      <th>1</th>\n",
       "      <td>3</td>\n",
       "      <td>default_2021_05_27-13_59_16</td>\n",
       "      <td>2021-05-27 19:55:06</td>\n",
       "      <td>{\\n  \"calgroup_bandwidth\": [\\n    {\\n      \"Ba...</td>\n",
       "    </tr>\n",
       "    <tr>\n",
       "      <th>2</th>\n",
       "      <td>4</td>\n",
       "      <td>default_2021_05_28-13_59_16</td>\n",
       "      <td>2021-05-28 16:55:06</td>\n",
       "      <td>{\\n  \"calgroup_bandwidth\": [\\n    {\\n      \"Ba...</td>\n",
       "    </tr>\n",
       "  </tbody>\n",
       "</table>\n",
       "</div>"
      ],
      "text/plain": [
       "   id                 evaluator_id         insert_time  \\\n",
       "0   2  default_2021_05_26-13_59_16 2021-05-26 19:55:06   \n",
       "1   3  default_2021_05_27-13_59_16 2021-05-27 19:55:06   \n",
       "2   4  default_2021_05_28-13_59_16 2021-05-28 16:55:06   \n",
       "\n",
       "                                  calgroup_bandwidth  \n",
       "0  {\\n  \"calgroup_bandwidth\": [\\n    {\\n      \"Ba...  \n",
       "1  {\\n  \"calgroup_bandwidth\": [\\n    {\\n      \"Ba...  \n",
       "2  {\\n  \"calgroup_bandwidth\": [\\n    {\\n      \"Ba...  "
      ]
     },
     "execution_count": 9,
     "metadata": {},
     "output_type": "execute_result"
    }
   ],
   "source": [
    "sql_df.head()"
   ]
  },
  {
   "cell_type": "code",
   "execution_count": 10,
   "metadata": {},
   "outputs": [],
   "source": [
    "#'evaluator_id', 'insert_time'\n",
    "column_names = [\"id\", \"evaluator_id\", \"insert_time\",\"modelunit_id\", \"calgroup_bandwidth\"]\n",
    "\n",
    "df_final = pd.DataFrame(columns = column_names)"
   ]
  },
  {
   "cell_type": "code",
   "execution_count": 11,
   "metadata": {},
   "outputs": [
    {
     "data": {
      "text/html": [
       "<div>\n",
       "<style scoped>\n",
       "    .dataframe tbody tr th:only-of-type {\n",
       "        vertical-align: middle;\n",
       "    }\n",
       "\n",
       "    .dataframe tbody tr th {\n",
       "        vertical-align: top;\n",
       "    }\n",
       "\n",
       "    .dataframe thead th {\n",
       "        text-align: right;\n",
       "    }\n",
       "</style>\n",
       "<table border=\"1\" class=\"dataframe\">\n",
       "  <thead>\n",
       "    <tr style=\"text-align: right;\">\n",
       "      <th></th>\n",
       "      <th>id</th>\n",
       "      <th>evaluator_id</th>\n",
       "      <th>insert_time</th>\n",
       "      <th>calgroup_bandwidth</th>\n",
       "    </tr>\n",
       "  </thead>\n",
       "  <tbody>\n",
       "    <tr>\n",
       "      <th>0</th>\n",
       "      <td>2</td>\n",
       "      <td>default_2021_05_26-13_59_16</td>\n",
       "      <td>2021-05-26 19:55:06</td>\n",
       "      <td>{\\n  \"calgroup_bandwidth\": [\\n    {\\n      \"Ba...</td>\n",
       "    </tr>\n",
       "    <tr>\n",
       "      <th>1</th>\n",
       "      <td>3</td>\n",
       "      <td>default_2021_05_27-13_59_16</td>\n",
       "      <td>2021-05-27 19:55:06</td>\n",
       "      <td>{\\n  \"calgroup_bandwidth\": [\\n    {\\n      \"Ba...</td>\n",
       "    </tr>\n",
       "    <tr>\n",
       "      <th>2</th>\n",
       "      <td>4</td>\n",
       "      <td>default_2021_05_28-13_59_16</td>\n",
       "      <td>2021-05-28 16:55:06</td>\n",
       "      <td>{\\n  \"calgroup_bandwidth\": [\\n    {\\n      \"Ba...</td>\n",
       "    </tr>\n",
       "  </tbody>\n",
       "</table>\n",
       "</div>"
      ],
      "text/plain": [
       "   id                 evaluator_id         insert_time  \\\n",
       "0   2  default_2021_05_26-13_59_16 2021-05-26 19:55:06   \n",
       "1   3  default_2021_05_27-13_59_16 2021-05-27 19:55:06   \n",
       "2   4  default_2021_05_28-13_59_16 2021-05-28 16:55:06   \n",
       "\n",
       "                                  calgroup_bandwidth  \n",
       "0  {\\n  \"calgroup_bandwidth\": [\\n    {\\n      \"Ba...  \n",
       "1  {\\n  \"calgroup_bandwidth\": [\\n    {\\n      \"Ba...  \n",
       "2  {\\n  \"calgroup_bandwidth\": [\\n    {\\n      \"Ba...  "
      ]
     },
     "execution_count": 11,
     "metadata": {},
     "output_type": "execute_result"
    }
   ],
   "source": [
    "sql_df.head()"
   ]
  },
  {
   "cell_type": "code",
   "execution_count": 12,
   "metadata": {},
   "outputs": [
    {
     "data": {
      "text/html": [
       "<div>\n",
       "<style scoped>\n",
       "    .dataframe tbody tr th:only-of-type {\n",
       "        vertical-align: middle;\n",
       "    }\n",
       "\n",
       "    .dataframe tbody tr th {\n",
       "        vertical-align: top;\n",
       "    }\n",
       "\n",
       "    .dataframe thead th {\n",
       "        text-align: right;\n",
       "    }\n",
       "</style>\n",
       "<table border=\"1\" class=\"dataframe\">\n",
       "  <thead>\n",
       "    <tr style=\"text-align: right;\">\n",
       "      <th></th>\n",
       "      <th>id</th>\n",
       "      <th>evaluator_id</th>\n",
       "      <th>insert_time</th>\n",
       "      <th>calgroup_bandwidth</th>\n",
       "    </tr>\n",
       "  </thead>\n",
       "  <tbody>\n",
       "    <tr>\n",
       "      <th>0</th>\n",
       "      <td>2</td>\n",
       "      <td>default_2021_05_26-13_59_16</td>\n",
       "      <td>2021-05-26 19:55:06</td>\n",
       "      <td>{\"calgroup_bandwidth\":[{\"Bandwidth\":[],\"CPID\":...</td>\n",
       "    </tr>\n",
       "    <tr>\n",
       "      <th>1</th>\n",
       "      <td>3</td>\n",
       "      <td>default_2021_05_27-13_59_16</td>\n",
       "      <td>2021-05-27 19:55:06</td>\n",
       "      <td>{\"calgroup_bandwidth\":[{\"Bandwidth\":[],\"CPID\":...</td>\n",
       "    </tr>\n",
       "    <tr>\n",
       "      <th>2</th>\n",
       "      <td>4</td>\n",
       "      <td>default_2021_05_28-13_59_16</td>\n",
       "      <td>2021-05-28 16:55:06</td>\n",
       "      <td>{\"calgroup_bandwidth\":[{\"Bandwidth\":[],\"CPID\":...</td>\n",
       "    </tr>\n",
       "  </tbody>\n",
       "</table>\n",
       "</div>"
      ],
      "text/plain": [
       "   id                 evaluator_id         insert_time  \\\n",
       "0   2  default_2021_05_26-13_59_16 2021-05-26 19:55:06   \n",
       "1   3  default_2021_05_27-13_59_16 2021-05-27 19:55:06   \n",
       "2   4  default_2021_05_28-13_59_16 2021-05-28 16:55:06   \n",
       "\n",
       "                                  calgroup_bandwidth  \n",
       "0  {\"calgroup_bandwidth\":[{\"Bandwidth\":[],\"CPID\":...  \n",
       "1  {\"calgroup_bandwidth\":[{\"Bandwidth\":[],\"CPID\":...  \n",
       "2  {\"calgroup_bandwidth\":[{\"Bandwidth\":[],\"CPID\":...  "
      ]
     },
     "execution_count": 12,
     "metadata": {},
     "output_type": "execute_result"
    }
   ],
   "source": [
    "sql_df['calgroup_bandwidth']=sql_df['calgroup_bandwidth'].replace('\\n','', regex=True).replace(' ', '',regex = True)\n",
    "sql_df.head()"
   ]
  },
  {
   "cell_type": "code",
   "execution_count": 13,
   "metadata": {
    "scrolled": true
   },
   "outputs": [
    {
     "data": {
      "text/plain": [
       "dict_keys([0, 1, 2])"
      ]
     },
     "execution_count": 13,
     "metadata": {},
     "output_type": "execute_result"
    }
   ],
   "source": [
    "data_dict=dict(sql_df['calgroup_bandwidth'])\n",
    "data_dict.keys()"
   ]
  },
  {
   "cell_type": "code",
   "execution_count": 14,
   "metadata": {},
   "outputs": [
    {
     "name": "stdout",
     "output_type": "stream",
     "text": [
      "calgroup_bandwidth\n",
      "calgroup_bandwidth\n",
      "calgroup_bandwidth\n"
     ]
    }
   ],
   "source": [
    "try:\n",
    "    for i in range(0,len(sql_df)):\n",
    "        #print(sql_df.iloc[i])\n",
    "        df = dict(sql_df.iloc[i])\n",
    "        _id = df['id']\n",
    "        evaluator_id = df['evaluator_id']\n",
    "        insert_time = df['insert_time']\n",
    "        #print(_id,evaluator_id,insert_time)\n",
    "        st = data_dict[i]\n",
    "        d = json.loads(st)\n",
    "        ky=dict(d)\n",
    "        ky=list(ky.keys())[0]\n",
    "        print(ky)\n",
    "        data = d[ky]\n",
    "        for dt in data:\n",
    "            #print(dt)\n",
    "            df_final = df_final.append({\n",
    "            \"id\" : _id,\n",
    "            \"evaluator_id\" : evaluator_id,\n",
    "            \"insert_time\"  : insert_time,\n",
    "            \"calgroup_bandwidth\":str(dt),\n",
    "            \"modelunit_id\": dt['MUID']}, ignore_index=True)\n",
    "except:\n",
    "     print(\"Error while parsing json\")\n",
    "\n",
    "        \n",
    "#df_final.to_sql('eval_view_test', archival, index=False,if_exists='replace', index_label=\"RowNum\", chunksize = 1000)"
   ]
  },
  {
   "cell_type": "code",
   "execution_count": 15,
   "metadata": {},
   "outputs": [
    {
     "data": {
      "text/html": [
       "<div>\n",
       "<style scoped>\n",
       "    .dataframe tbody tr th:only-of-type {\n",
       "        vertical-align: middle;\n",
       "    }\n",
       "\n",
       "    .dataframe tbody tr th {\n",
       "        vertical-align: top;\n",
       "    }\n",
       "\n",
       "    .dataframe thead th {\n",
       "        text-align: right;\n",
       "    }\n",
       "</style>\n",
       "<table border=\"1\" class=\"dataframe\">\n",
       "  <thead>\n",
       "    <tr style=\"text-align: right;\">\n",
       "      <th></th>\n",
       "      <th>id</th>\n",
       "      <th>evaluator_id</th>\n",
       "      <th>insert_time</th>\n",
       "      <th>modelunit_id</th>\n",
       "      <th>calgroup_bandwidth</th>\n",
       "    </tr>\n",
       "  </thead>\n",
       "  <tbody>\n",
       "    <tr>\n",
       "      <th>0</th>\n",
       "      <td>2</td>\n",
       "      <td>default_2021_05_26-13_59_16</td>\n",
       "      <td>2021-05-26 19:55:06</td>\n",
       "      <td>191</td>\n",
       "      <td>{'Bandwidth': [], 'CPID': 2, 'MUID': 191, 'Pro...</td>\n",
       "    </tr>\n",
       "    <tr>\n",
       "      <th>1</th>\n",
       "      <td>2</td>\n",
       "      <td>default_2021_05_26-13_59_16</td>\n",
       "      <td>2021-05-26 19:55:06</td>\n",
       "      <td>190</td>\n",
       "      <td>{'Bandwidth': [], 'CPID': 1, 'MUID': 190, 'Pro...</td>\n",
       "    </tr>\n",
       "    <tr>\n",
       "      <th>2</th>\n",
       "      <td>2</td>\n",
       "      <td>default_2021_05_26-13_59_16</td>\n",
       "      <td>2021-05-26 19:55:06</td>\n",
       "      <td>196</td>\n",
       "      <td>{'Bandwidth': [], 'CPID': 2, 'MUID': 196, 'Pro...</td>\n",
       "    </tr>\n",
       "    <tr>\n",
       "      <th>3</th>\n",
       "      <td>2</td>\n",
       "      <td>default_2021_05_26-13_59_16</td>\n",
       "      <td>2021-05-26 19:55:06</td>\n",
       "      <td>832001</td>\n",
       "      <td>{'Bandwidth': [{'CGID': -1, 'MAX': 9.1234, 'MI...</td>\n",
       "    </tr>\n",
       "    <tr>\n",
       "      <th>4</th>\n",
       "      <td>2</td>\n",
       "      <td>default_2021_05_26-13_59_16</td>\n",
       "      <td>2021-05-26 19:55:06</td>\n",
       "      <td>5000620</td>\n",
       "      <td>{'Bandwidth': [{'CGID': -1, 'MAX': 9.1234, 'MI...</td>\n",
       "    </tr>\n",
       "  </tbody>\n",
       "</table>\n",
       "</div>"
      ],
      "text/plain": [
       "  id                 evaluator_id         insert_time modelunit_id  \\\n",
       "0  2  default_2021_05_26-13_59_16 2021-05-26 19:55:06          191   \n",
       "1  2  default_2021_05_26-13_59_16 2021-05-26 19:55:06          190   \n",
       "2  2  default_2021_05_26-13_59_16 2021-05-26 19:55:06          196   \n",
       "3  2  default_2021_05_26-13_59_16 2021-05-26 19:55:06       832001   \n",
       "4  2  default_2021_05_26-13_59_16 2021-05-26 19:55:06      5000620   \n",
       "\n",
       "                                  calgroup_bandwidth  \n",
       "0  {'Bandwidth': [], 'CPID': 2, 'MUID': 191, 'Pro...  \n",
       "1  {'Bandwidth': [], 'CPID': 1, 'MUID': 190, 'Pro...  \n",
       "2  {'Bandwidth': [], 'CPID': 2, 'MUID': 196, 'Pro...  \n",
       "3  {'Bandwidth': [{'CGID': -1, 'MAX': 9.1234, 'MI...  \n",
       "4  {'Bandwidth': [{'CGID': -1, 'MAX': 9.1234, 'MI...  "
      ]
     },
     "execution_count": 15,
     "metadata": {},
     "output_type": "execute_result"
    }
   ],
   "source": [
    "df_final.head()"
   ]
  },
  {
   "cell_type": "code",
   "execution_count": 16,
   "metadata": {},
   "outputs": [],
   "source": [
    "def generate_rb_multiqueue(activemodelunit,program,df_final,team,activemodel_prod):\n",
    "    try:\n",
    "        join_with_model_unit = pd.merge(df_final,activemodel_prod, on='modelunit_id' , how = 'inner')\n",
    "        join_with_program = pd.merge(join_with_model_unit,activemodelunit, on='modelunit_id' , how = 'inner')\n",
    "        #join_with_program=join_with_program[['id','evaluator_id','insert_time','calgroup_bandwidth','program_id_x']]\n",
    "        join_with_program= pd.merge(join_with_program,program,left_on='program_id_x',right_on='program_id',how='inner')\n",
    "        join_with_program=join_with_program[['id','evaluator_id','insert_time','calgroup_bandwidth']]\n",
    "\n",
    "        if len(join_with_program)>0:\n",
    "            join_with_program['calgroup_bandwidth'] = join_with_program.groupby(['id','insert_time','evaluator_id'])['calgroup_bandwidth'].transform(lambda x : ','.join(x))\n",
    "            join_with_program = join_with_program.drop_duplicates() \n",
    "            \n",
    "            join_with_program['calgroup_bandwidth'] = \" {'calgroup_bandwidth' : [\" + join_with_program['calgroup_bandwidth'] + \"]}\"\n",
    "            join_with_program['calgroup_bandwidth']=join_with_program['calgroup_bandwidth'].replace(\"'\",'\"',regex=True) \n",
    "    \n",
    "            \n",
    "    \n",
    "            join_with_program.to_sql('eval_view_'+team+'_test', archival, index=False,if_exists='append', index_label=\"RowNum\", chunksize = 1000)\n",
    "        else:\n",
    "            print(\"No Data for \"+team)\n",
    "    except:\n",
    "          print(\"An exception occurred for \"+team)\n",
    "            \n"
   ]
  },
  {
   "cell_type": "code",
   "execution_count": 17,
   "metadata": {},
   "outputs": [
    {
     "name": "stdout",
     "output_type": "stream",
     "text": [
      "No Data for red\n",
      "No Data for blue\n"
     ]
    }
   ],
   "source": [
    "if is_multi_queue ==1:\n",
    "    generate_rb_multiqueue(activemodelunit_red,program_red,df_final,'red',activemodel_prod)\n",
    "    generate_rb_multiqueue(activemodelunit_blue,program_blue,df_final,'blue',activemodel_prod)\n",
    "else:\n",
    "    team = team_rotation['team'][0]\n",
    "    if team_rotation == 'None':\n",
    "        pass\n",
    "    else:\n",
    "        if team == 'Red':\n",
    "            generate_rb_multiqueue(activemodelunit_red,program_red,df_final,'red',activemodel_prod)\n",
    "        elif team == 'Blue':\n",
    "            generate_rb_multiqueue(activemodelunit_blue,program_blue,df_final,'blue',activemodel_prod)\n",
    "    \n",
    "con.close()\n",
    "archival.dispose()"
   ]
  },
  {
   "cell_type": "code",
   "execution_count": 18,
   "metadata": {},
   "outputs": [
    {
     "data": {
      "text/plain": [
       "'Red'"
      ]
     },
     "execution_count": 18,
     "metadata": {},
     "output_type": "execute_result"
    }
   ],
   "source": [
    "team_rotation['Team'][0]"
   ]
  },
  {
   "cell_type": "code",
   "execution_count": 19,
   "metadata": {},
   "outputs": [
    {
     "data": {
      "text/plain": [
       "'if len(join_with_program)>0:\\n    join_with_program[\\'calgroup_bandwidth\\'] = join_with_program.groupby([\\'id\\',\\'insert_time\\',\\'evaluator_id\\'])[\\'calgroup_bandwidth\\'].transform(lambda x : \\',\\'.join(x))\\n    join_with_program = join_with_program.drop_duplicates() \\n      \\n    join_with_program[\\'calgroup_bandwidth\\'] = \" {\\'calgroup_bandwidth\\' : [\" + join_with_program[\\'calgroup_bandwidth\\'] + \"]}\"\\n    join_with_program[\\'calgroup_bandwidth\\']=join_with_program[\\'calgroup_bandwidth\\'].replace(\"\\'\",\\'\"\\',regex=True) \\n     \\n    '"
      ]
     },
     "execution_count": 19,
     "metadata": {},
     "output_type": "execute_result"
    }
   ],
   "source": [
    "\"\"\"if len(join_with_program)>0:\n",
    "    join_with_program['calgroup_bandwidth'] = join_with_program.groupby(['id','insert_time','evaluator_id'])['calgroup_bandwidth'].transform(lambda x : ','.join(x))\n",
    "    join_with_program = join_with_program.drop_duplicates() \n",
    "      \n",
    "    join_with_program['calgroup_bandwidth'] = \" {'calgroup_bandwidth' : [\" + join_with_program['calgroup_bandwidth'] + \"]}\"\n",
    "    join_with_program['calgroup_bandwidth']=join_with_program['calgroup_bandwidth'].replace(\"'\",'\"',regex=True) \n",
    "     \n",
    "    \"\"\""
   ]
  },
  {
   "cell_type": "code",
   "execution_count": null,
   "metadata": {},
   "outputs": [],
   "source": []
  },
  {
   "cell_type": "code",
   "execution_count": null,
   "metadata": {},
   "outputs": [],
   "source": []
  },
  {
   "cell_type": "code",
   "execution_count": null,
   "metadata": {},
   "outputs": [],
   "source": []
  }
 ],
 "metadata": {
  "kernelspec": {
   "display_name": "Python 3",
   "language": "python",
   "name": "python3"
  },
  "language_info": {
   "codemirror_mode": {
    "name": "ipython",
    "version": 3
   },
   "file_extension": ".py",
   "mimetype": "text/x-python",
   "name": "python",
   "nbconvert_exporter": "python",
   "pygments_lexer": "ipython3",
   "version": "3.7.3"
  }
 },
 "nbformat": 4,
 "nbformat_minor": 2
}
