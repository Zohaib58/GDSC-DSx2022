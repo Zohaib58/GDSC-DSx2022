{
 "cells": [
  {
   "cell_type": "code",
   "execution_count": null,
   "id": "b465552e",
   "metadata": {},
   "outputs": [],
   "source": [
    "import pandas as pd\n",
    "import numpy as np\n",
    "path=\"\""
   ]
  },
  {
   "cell_type": "code",
   "execution_count": null,
   "id": "5865e415",
   "metadata": {},
   "outputs": [],
   "source": [
    "homelessness=pd.read_csv(path+\"homelessness.csv\")"
   ]
  },
  {
   "cell_type": "code",
   "execution_count": null,
   "id": "56206d59",
   "metadata": {},
   "outputs": [],
   "source": [
    "homelessness.head()"
   ]
  },
  {
   "cell_type": "code",
   "execution_count": null,
   "id": "8bbe5b54",
   "metadata": {},
   "outputs": [],
   "source": [
    "# Print information about homelessness\n",
    "print(homelessness.info())"
   ]
  },
  {
   "cell_type": "code",
   "execution_count": null,
   "id": "7fd21bdb",
   "metadata": {},
   "outputs": [],
   "source": [
    "# Print the shape of homelessness\n",
    "print(homelessness.shape)"
   ]
  },
  {
   "cell_type": "code",
   "execution_count": null,
   "id": "3bfd7fa4",
   "metadata": {},
   "outputs": [],
   "source": [
    "# Print a description of homelessness\n",
    "print(homelessness.describe())"
   ]
  },
  {
   "cell_type": "code",
   "execution_count": null,
   "id": "13326f22",
   "metadata": {},
   "outputs": [],
   "source": [
    "# Print the values of homelessness\n",
    "print(homelessness.values)"
   ]
  },
  {
   "cell_type": "code",
   "execution_count": null,
   "id": "da3efcc5",
   "metadata": {},
   "outputs": [],
   "source": [
    "# Print the column index of homelessness\n",
    "print(homelessness.columns)"
   ]
  },
  {
   "cell_type": "code",
   "execution_count": null,
   "id": "1bef151d",
   "metadata": {},
   "outputs": [],
   "source": [
    "# Print the row index of homelessness\n",
    "print(homelessness.index)"
   ]
  },
  {
   "cell_type": "markdown",
   "id": "d113ae58",
   "metadata": {},
   "source": [
    "# Sorting and subsetting"
   ]
  },
  {
   "cell_type": "code",
   "execution_count": null,
   "id": "53268121",
   "metadata": {},
   "outputs": [],
   "source": [
    "# Sort homelessness by individual\n",
    "homelessness_ind = homelessness.sort_values(\"individuals\")\n",
    "\n",
    "# Print the top few rows\n",
    "homelessness_ind.head()"
   ]
  },
  {
   "cell_type": "code",
   "execution_count": null,
   "id": "3fe56698",
   "metadata": {},
   "outputs": [],
   "source": [
    "# Sort homelessness by descending family members\n",
    "homelessness_fam = homelessness.sort_values(\"family_members\",ascending=False)\n",
    "\n",
    "# Print the top few rows\n",
    "homelessness_fam.head()"
   ]
  },
  {
   "cell_type": "code",
   "execution_count": null,
   "id": "94dfc9f2",
   "metadata": {},
   "outputs": [],
   "source": [
    "# Sort homelessness by region, then descending family members\n",
    "homelessness_reg_fam = homelessness.sort_values([\"region\",\"family_members\"],ascending=[True,False])\n",
    "\n",
    "# Print the top few rows\n",
    "homelessness_reg_fam.head()"
   ]
  },
  {
   "cell_type": "markdown",
   "id": "9b428a66",
   "metadata": {},
   "source": [
    "Subsetting columns"
   ]
  },
  {
   "cell_type": "code",
   "execution_count": null,
   "id": "a8507106",
   "metadata": {},
   "outputs": [],
   "source": [
    "# Select the individuals column\n",
    "individuals = homelessness[\"individuals\"]\n",
    "\n",
    "# Print the head of the result\n",
    "individuals.head()"
   ]
  },
  {
   "cell_type": "code",
   "execution_count": null,
   "id": "e23dfcce",
   "metadata": {},
   "outputs": [],
   "source": [
    "# Select the state and family_members columns\n",
    "state_fam = homelessness[[\"state\",\"family_members\"]]\n",
    "\n",
    "# Print the head of the result\n",
    "state_fam.head()"
   ]
  },
  {
   "cell_type": "code",
   "execution_count": null,
   "id": "b9e2a1ec",
   "metadata": {},
   "outputs": [],
   "source": [
    "# Filter for rows where individuals is greater than 10000\n",
    "ind_gt_10k = homelessness[homelessness[\"individuals\"]>10000]\n",
    "\n",
    "# See the result\n",
    "ind_gt_10k.head()"
   ]
  },
  {
   "cell_type": "code",
   "execution_count": null,
   "id": "adde6cce",
   "metadata": {},
   "outputs": [],
   "source": [
    "# Filter for rows where region is Mountain\n",
    "mountain_reg = homelessness[homelessness[\"region\"]==\"Mountain\"]\n",
    "\n",
    "# See the result\n",
    "mountain_reg.head()"
   ]
  },
  {
   "cell_type": "code",
   "execution_count": null,
   "id": "f97424b9",
   "metadata": {},
   "outputs": [],
   "source": [
    "# Filter for rows where family_members is less than 1000 \n",
    "# and region is Pacific\n",
    "fam_lt_1k_pac = homelessness[(homelessness[\"family_members\"]<1000) & (homelessness[\"region\"]==\"Pacific\")]\n",
    "\n",
    "# See the result\n",
    "fam_lt_1k_pac.head()"
   ]
  },
  {
   "cell_type": "code",
   "execution_count": null,
   "id": "50041faa",
   "metadata": {},
   "outputs": [],
   "source": [
    "# Subset for rows in South Atlantic or Mid-Atlantic regions\n",
    "south_mid_atlantic =  homelessness[(homelessness[\"region\"]==\"South Atlantic\") | (homelessness[\"region\"]==\"Mid-Atlantic\")]\n",
    "\n",
    "# See the result\n",
    "south_mid_atlantic.head()"
   ]
  },
  {
   "cell_type": "code",
   "execution_count": null,
   "id": "27dd2395",
   "metadata": {},
   "outputs": [],
   "source": [
    "# The Mojave Desert states\n",
    "canu = [\"California\", \"Arizona\", \"Nevada\", \"Utah\"]\n",
    "\n",
    "# Filter for rows in the Mojave Desert states\n",
    "mojave_homelessness = homelessness[homelessness[\"state\"].isin(canu)]\n",
    "\n",
    "# See the result\n",
    "mojave_homelessness.head()"
   ]
  },
  {
   "cell_type": "markdown",
   "id": "e27134cb",
   "metadata": {},
   "source": [
    "# Adding new columns"
   ]
  },
  {
   "cell_type": "code",
   "execution_count": null,
   "id": "d387a000",
   "metadata": {},
   "outputs": [],
   "source": [
    "# Add total col as sum of individuals and family_members\n",
    "homelessness[\"total\"] = homelessness[\"individuals\"] + homelessness[\"family_members\"]\n",
    "\n",
    "# Add p_individuals col as proportion of individuals\n",
    "homelessness[\"p_individuals\"] = homelessness[\"individuals\"] / homelessness[\"total\"]\n",
    "\n",
    "# See the result\n",
    "homelessness.head()"
   ]
  },
  {
   "cell_type": "code",
   "execution_count": null,
   "id": "6a420ba3",
   "metadata": {},
   "outputs": [],
   "source": [
    "# Create indiv_per_10k col as homeless individuals per 10k state pop\n",
    "homelessness[\"indiv_per_10k\"] = 10000 * homelessness[\"individuals\"] / homelessness[\"state_pop\"] \n",
    "\n",
    "# Subset rows for indiv_per_10k greater than 20\n",
    "high_homelessness = homelessness[homelessness[\"indiv_per_10k\"] > 20]\n",
    "\n",
    "# Sort high_homelessness by descending indiv_per_10k\n",
    "high_homelessness_srt = high_homelessness.sort_values(\"indiv_per_10k\", ascending=False)\n",
    "\n",
    "# From high_homelessness_srt, select the state and indiv_per_10k cols\n",
    "result = high_homelessness_srt[[\"state\", \"indiv_per_10k\"]]\n",
    "\n",
    "# See the result\n",
    "result.head()"
   ]
  },
  {
   "cell_type": "markdown",
   "id": "a481e31a",
   "metadata": {},
   "source": [
    "# Summary statistics"
   ]
  },
  {
   "cell_type": "code",
   "execution_count": null,
   "id": "6f6b5ab5",
   "metadata": {},
   "outputs": [],
   "source": [
    "# this data set contains weekly sales in US dollars in various stores\n",
    "# each store has id number and specific store type\n",
    "# unemp is national employement rate that week\n",
    "sales = pd.read_csv(path+\"sales_subset.csv\")\n",
    "sales.head()"
   ]
  },
  {
   "cell_type": "code",
   "execution_count": null,
   "id": "42945357",
   "metadata": {},
   "outputs": [],
   "source": [
    "# Print the mean of weekly_sales\n",
    "print(sales[\"weekly_sales\"].mean())"
   ]
  },
  {
   "cell_type": "code",
   "execution_count": null,
   "id": "7b97d174",
   "metadata": {},
   "outputs": [],
   "source": [
    "# Print the median of weekly_sales\n",
    "print(sales[\"weekly_sales\"].median())"
   ]
  },
  {
   "cell_type": "code",
   "execution_count": null,
   "id": "14c8276f",
   "metadata": {},
   "outputs": [],
   "source": [
    "# Print the maximum of the date column\n",
    "print(sales['date'].max())\n",
    "\n",
    "# Print the minimum of the date column\n",
    "print(sales['date'].min())"
   ]
  },
  {
   "cell_type": "code",
   "execution_count": null,
   "id": "17eee3ce",
   "metadata": {},
   "outputs": [],
   "source": [
    "# A custom IQR function\n",
    "def iqr(column):\n",
    "    return column.quantile(0.75) - column.quantile(0.25)\n",
    "    \n",
    "# Print IQR of the temperature_c column\n",
    "print(sales[\"temperature_c\"].agg(iqr))"
   ]
  },
  {
   "cell_type": "code",
   "execution_count": null,
   "id": "94c0c8e6",
   "metadata": {},
   "outputs": [],
   "source": [
    "# A custom IQR function\n",
    "def iqr(column):\n",
    "    return column.quantile(0.75) - column.quantile(0.25)\n",
    "\n",
    "# Update to print IQR of temperature_c, fuel_price_usd_per_l, & unemployment\n",
    "print(sales[[\"temperature_c\", \"fuel_price_usd_per_l\", \"unemployment\"]].agg(iqr))"
   ]
  },
  {
   "cell_type": "code",
   "execution_count": null,
   "id": "d9e1c400",
   "metadata": {},
   "outputs": [],
   "source": [
    "# Update to print IQR and median of temperature_c, fuel_price_usd_per_l, & unemployment\n",
    "print(sales[[\"temperature_c\", \"fuel_price_usd_per_l\", \"unemployment\"]].agg([iqr, np.median]))"
   ]
  },
  {
   "cell_type": "code",
   "execution_count": null,
   "id": "f66e15ec",
   "metadata": {},
   "outputs": [],
   "source": [
    "sales_1_1 = sales[(sales[\"store\"]==1) & (sales[\"department\"]==1)]\n",
    "sales_1_1['date']= pd.to_datetime(sales_1_1['date'])\n",
    "sales_1_1.head()"
   ]
  },
  {
   "cell_type": "code",
   "execution_count": null,
   "id": "726f245f",
   "metadata": {},
   "outputs": [],
   "source": [
    "# Sort sales_1_1 by date\n",
    "sales_1_1 = sales_1_1.sort_values(\"date\")\n",
    "\n",
    "# Get the cumulative sum of weekly_sales, add as cum_weekly_sales col\n",
    "sales_1_1[\"cum_weekly_sales\"] = sales_1_1[\"weekly_sales\"].cumsum()\n",
    "\n",
    "# Get the cumulative max of weekly_sales, add as cum_max_sales col\n",
    "sales_1_1[\"cum_max_sales\"] = sales_1_1[\"weekly_sales\"].cummax()\n",
    "\n",
    "# See the columns you calculated\n",
    "sales_1_1[[\"date\", \"weekly_sales\", \"cum_weekly_sales\", \"cum_max_sales\"]].head()"
   ]
  },
  {
   "cell_type": "markdown",
   "id": "a65c70fd",
   "metadata": {},
   "source": [
    "# Dropping duplicates"
   ]
  },
  {
   "cell_type": "code",
   "execution_count": null,
   "id": "5a078a8d",
   "metadata": {},
   "outputs": [],
   "source": [
    "# Drop duplicate store/type combinations\n",
    "sales['date']=pd.to_datetime(sales['date'])\n",
    "store_types = sales.drop_duplicates(subset=[\"store\", \"type\"])\n",
    "store_types.head()"
   ]
  },
  {
   "cell_type": "code",
   "execution_count": null,
   "id": "7dea305e",
   "metadata": {},
   "outputs": [],
   "source": [
    "# Drop duplicate store/department combinations\n",
    "store_depts = sales.drop_duplicates(subset=[\"store\", \"department\"])\n",
    "store_depts.head()"
   ]
  },
  {
   "cell_type": "code",
   "execution_count": null,
   "id": "2078facd",
   "metadata": {},
   "outputs": [],
   "source": [
    "# Subset the rows where is_holiday is True and drop duplicate dates\n",
    "holiday_dates = sales[sales[\"is_holiday\"]].drop_duplicates(subset=\"date\")\n",
    "\n",
    "# Print date col of holiday_dates\n",
    "holiday_dates[\"date\"]"
   ]
  },
  {
   "cell_type": "code",
   "execution_count": null,
   "id": "0c0f633d",
   "metadata": {},
   "outputs": [],
   "source": [
    "# Count the number of stores of each type\n",
    "store_counts = store_types[\"type\"].value_counts()\n",
    "print(store_counts)"
   ]
  },
  {
   "cell_type": "code",
   "execution_count": null,
   "id": "62c2cbdc",
   "metadata": {},
   "outputs": [],
   "source": [
    "# Get the proportion of stores of each type\n",
    "store_props = store_types[\"type\"].value_counts(normalize=True)\n",
    "print(store_props)\n"
   ]
  },
  {
   "cell_type": "code",
   "execution_count": null,
   "id": "e42d5c6e",
   "metadata": {},
   "outputs": [],
   "source": [
    "# Count the number of each department number and sort\n",
    "dept_counts_sorted = store_depts[\"department\"].value_counts()\n",
    "print(dept_counts_sorted)\n",
    "\n"
   ]
  },
  {
   "cell_type": "code",
   "execution_count": null,
   "id": "44dab1ec",
   "metadata": {},
   "outputs": [],
   "source": [
    "# Get the proportion of departments of each number and sort\n",
    "dept_props_sorted = store_depts[\"department\"].value_counts(sort=True, normalize=True)\n",
    "print(dept_props_sorted)"
   ]
  },
  {
   "cell_type": "markdown",
   "id": "357b1c3a",
   "metadata": {},
   "source": [
    "# Groupping"
   ]
  },
  {
   "cell_type": "code",
   "execution_count": null,
   "id": "9808db62",
   "metadata": {},
   "outputs": [],
   "source": [
    "# Group by type; calc total weekly sales\n",
    "sales_by_type = sales.groupby(\"type\")[\"weekly_sales\"].sum()\n",
    "\n",
    "sales_by_type.head()"
   ]
  },
  {
   "cell_type": "code",
   "execution_count": null,
   "id": "91e908b6",
   "metadata": {},
   "outputs": [],
   "source": [
    "# Get proportion for each type\n",
    "sales_propn_by_type = sales_by_type / sum(sales_by_type)\n",
    "print(sales_propn_by_type)"
   ]
  },
  {
   "cell_type": "code",
   "execution_count": null,
   "id": "1dfc6927",
   "metadata": {},
   "outputs": [],
   "source": [
    "sales_by_type_is_holiday = sales.groupby([\"type\", \"is_holiday\"])[\"weekly_sales\"].sum()\n",
    "sales_by_type_is_holiday.head()"
   ]
  },
  {
   "cell_type": "code",
   "execution_count": null,
   "id": "24d249bb",
   "metadata": {},
   "outputs": [],
   "source": [
    "sales.head()"
   ]
  },
  {
   "cell_type": "code",
   "execution_count": null,
   "id": "877fd49f",
   "metadata": {},
   "outputs": [],
   "source": [
    "# Import numpy with the alias np\n",
    "import numpy as np\n",
    "\n",
    "# For each store type, aggregate weekly_sales: get min, max, mean, and median\n",
    "sales_stats = sales.groupby(\"type\")[\"weekly_sales\"].agg([np.min, np.max, np.mean, np.median])\n",
    "\n",
    "# Print sales_stats\n",
    "sales_stats.head()"
   ]
  },
  {
   "cell_type": "code",
   "execution_count": null,
   "id": "32f06721",
   "metadata": {},
   "outputs": [],
   "source": [
    "# For each store type, aggregate unemployment and fuel_price_usd_per_l: get min, max, mean, and median\n",
    "unemp_fuel_stats = sales.groupby(\"type\")[[\"unemployment\", \"fuel_price_usd_per_l\"]].agg([np.min, np.max, np.mean, np.median])\n",
    "\n",
    "# Print unemp_fuel_stats\n",
    "unemp_fuel_stats.head()"
   ]
  },
  {
   "cell_type": "markdown",
   "id": "64b65923",
   "metadata": {},
   "source": [
    "# Pivot Tables"
   ]
  },
  {
   "cell_type": "code",
   "execution_count": null,
   "id": "e8ef3589",
   "metadata": {},
   "outputs": [],
   "source": [
    "# Pivot for mean weekly_sales for each store type\n",
    "mean_sales_by_type = sales.pivot_table(values=\"weekly_sales\",index=\"type\")\n",
    "\n",
    "# Print mean_sales_by_type\n",
    "mean_sales_by_type.head()"
   ]
  },
  {
   "cell_type": "code",
   "execution_count": null,
   "id": "35ec9c0d",
   "metadata": {},
   "outputs": [],
   "source": [
    "# Pivot for mean and median weekly_sales for each store type\n",
    "mean_med_sales_by_type = sales.pivot_table(values=\"weekly_sales\",index=\"type\",aggfunc=[np.mean,np.median])\n",
    "\n",
    "# Print mean_med_sales_by_type\n",
    "mean_med_sales_by_type.head()"
   ]
  },
  {
   "cell_type": "code",
   "execution_count": null,
   "id": "cb38d652",
   "metadata": {},
   "outputs": [],
   "source": [
    "# Pivot for mean weekly_sales by store type and holiday \n",
    "mean_sales_by_type_holiday = sales.pivot_table(values=\"weekly_sales\",index=\"type\",columns=\"is_holiday\")\n",
    "\n",
    "# Print mean_sales_by_type_holiday\n",
    "mean_sales_by_type_holiday.head()"
   ]
  },
  {
   "cell_type": "code",
   "execution_count": null,
   "id": "7883441d",
   "metadata": {},
   "outputs": [],
   "source": [
    "# Print mean weekly_sales by department and type; fill missing values with 0\n",
    "sales_data=sales.pivot_table(values=\"weekly_sales\", index=\"department\", columns=\"type\",fill_value=0, margins=True)\n",
    "sales_data.head()"
   ]
  },
  {
   "cell_type": "markdown",
   "id": "bec016e5",
   "metadata": {},
   "source": [
    "# Indexes"
   ]
  },
  {
   "cell_type": "code",
   "execution_count": null,
   "id": "c43f2bb5",
   "metadata": {},
   "outputs": [],
   "source": [
    "temperatures = pd.read_csv(path+\"temperatures.csv\")\n",
    "temperatures.head()"
   ]
  },
  {
   "cell_type": "code",
   "execution_count": null,
   "id": "be3d2901",
   "metadata": {},
   "outputs": [],
   "source": [
    "temperatures_ind = temperatures.set_index(\"city\")\n",
    "temperatures_ind.head()"
   ]
  },
  {
   "cell_type": "code",
   "execution_count": null,
   "id": "0b094f02",
   "metadata": {},
   "outputs": [],
   "source": [
    "temperatures_ind.reset_index()"
   ]
  },
  {
   "cell_type": "code",
   "execution_count": null,
   "id": "dac3480e",
   "metadata": {},
   "outputs": [],
   "source": [
    "temperatures_ind.reset_index(drop=True)"
   ]
  },
  {
   "cell_type": "code",
   "execution_count": null,
   "id": "81cdaad5",
   "metadata": {},
   "outputs": [],
   "source": [
    "# Make a list of cities to subset on\n",
    "cities = [\"Moscow\", \"Saint Petersburg\"]\n",
    "\n",
    "# Subset temperatures using square brackets\n",
    "temperatures[temperatures[\"city\"].isin(cities)]"
   ]
  },
  {
   "cell_type": "code",
   "execution_count": null,
   "id": "56d31b73",
   "metadata": {},
   "outputs": [],
   "source": [
    "# Subset temperatures_ind using .loc[]\n",
    "temperatures_ind.loc[cities]"
   ]
  },
  {
   "cell_type": "code",
   "execution_count": null,
   "id": "22f3327b",
   "metadata": {},
   "outputs": [],
   "source": [
    "# Index temperatures by country & city\n",
    "temperatures_ind = temperatures.set_index([\"country\",\"city\"])\n",
    "\n",
    "# List of tuples: Brazil, Rio De Janeiro & Pakistan, Lahore\n",
    "rows_to_keep = [(\"Brazil\",\"Rio De Janeiro\"),(\"Pakistan\",\"Lahore\")]\n",
    "\n",
    "# Subset for rows to keep\n",
    "temperatures_ind.loc[rows_to_keep]"
   ]
  },
  {
   "cell_type": "code",
   "execution_count": null,
   "id": "1805ab1f",
   "metadata": {},
   "outputs": [],
   "source": [
    "# Sort temperatures_ind by index values\n",
    "temperatures_ind.sort_index()"
   ]
  },
  {
   "cell_type": "code",
   "execution_count": null,
   "id": "387cf7c0",
   "metadata": {},
   "outputs": [],
   "source": [
    "# Sort temperatures_ind by index values at the city level\n",
    "temperatures_ind.sort_index(level=\"city\")"
   ]
  },
  {
   "cell_type": "code",
   "execution_count": null,
   "id": "9ac5f390",
   "metadata": {},
   "outputs": [],
   "source": [
    "# Sort temperatures_ind by country then descending city\n",
    "temperatures_ind.sort_index(level=[\"country\", \"city\"], ascending = [True, False])"
   ]
  },
  {
   "cell_type": "markdown",
   "id": "cd15ba35",
   "metadata": {},
   "source": [
    "# Slicing"
   ]
  },
  {
   "cell_type": "code",
   "execution_count": null,
   "id": "c67f973c",
   "metadata": {},
   "outputs": [],
   "source": [
    "# Sort the index of temperatures_ind\n",
    "temperatures_srt = temperatures_ind.sort_index()\n",
    "temperatures_srt.head()"
   ]
  },
  {
   "cell_type": "code",
   "execution_count": null,
   "id": "f17c1936",
   "metadata": {},
   "outputs": [],
   "source": [
    "# Subset rows from Pakistan to Russia\n",
    "temperatures_srt.loc[\"Pakistan\":\"Russia\"]"
   ]
  },
  {
   "cell_type": "code",
   "execution_count": null,
   "id": "6f07a33c",
   "metadata": {},
   "outputs": [],
   "source": [
    "# Try to subset rows from Lahore to Moscow\n",
    "temperatures_srt.loc[\"Lahore\":\"Moscow\"]"
   ]
  },
  {
   "cell_type": "code",
   "execution_count": null,
   "id": "8c2ac8f3",
   "metadata": {},
   "outputs": [],
   "source": [
    "# Subset rows from Pakistan, Lahore to Russia, Moscow\n",
    "temperatures_srt.loc[(\"Pakistan\", \"Lahore\"):(\"Russia\", \"Moscow\")]"
   ]
  },
  {
   "cell_type": "code",
   "execution_count": null,
   "id": "4a629c2e",
   "metadata": {},
   "outputs": [],
   "source": [
    "temperatures_srt.loc[(\"India\",\"Hyderabad\"):(\"Iraq\",\"Baghdad\"),\"date\":\"avg_temp_c\"]"
   ]
  },
  {
   "cell_type": "code",
   "execution_count": null,
   "id": "efea7dd1",
   "metadata": {},
   "outputs": [],
   "source": [
    "temperatures['date']= pd.to_datetime(temperatures['date'])\n",
    "temperatures.head()"
   ]
  },
  {
   "cell_type": "code",
   "execution_count": null,
   "id": "f19a570c",
   "metadata": {},
   "outputs": [],
   "source": [
    "# Use Boolean conditions to subset temperatures for rows in 2010 and 2011\n",
    "temperatures_bool = temperatures[(temperatures[\"date\"] >= \"2010-01-01\") & (temperatures[\"date\"] <= \"2011-12-31\")]\n",
    "temperatures_bool.head()"
   ]
  },
  {
   "cell_type": "code",
   "execution_count": null,
   "id": "94e45590",
   "metadata": {},
   "outputs": [],
   "source": [
    "# Set date as the index and sort the index\n",
    "temperatures_ind = temperatures.set_index(\"date\").sort_index()\n",
    "\n",
    "# Use .loc[] to subset temperatures_ind for rows in 2010 and 2011\n",
    "temperatures_ind.loc[\"2010\":\"2011\"]"
   ]
  },
  {
   "cell_type": "code",
   "execution_count": null,
   "id": "6993b197",
   "metadata": {},
   "outputs": [],
   "source": [
    "# Use .loc[] to subset temperatures_ind for rows from Aug 2010 to Feb 2011\n",
    "temperatures_ind.loc[\"2010-08\":\"2011-02\"]"
   ]
  },
  {
   "cell_type": "code",
   "execution_count": null,
   "id": "b058e2ed",
   "metadata": {},
   "outputs": [],
   "source": [
    "# Get 23rd row, 2nd column (index 22, 1)\n",
    "print(temperatures.iloc[22, 1])"
   ]
  },
  {
   "cell_type": "code",
   "execution_count": null,
   "id": "cfa5a1b3",
   "metadata": {},
   "outputs": [],
   "source": [
    "# Use slicing to get the first 5 rows\n",
    "temperatures.iloc[:5]"
   ]
  },
  {
   "cell_type": "code",
   "execution_count": null,
   "id": "3df735df",
   "metadata": {},
   "outputs": [],
   "source": [
    "# Use slicing to get columns 3 to 4\n",
    "temperatures.iloc[:, 2:4]"
   ]
  },
  {
   "cell_type": "code",
   "execution_count": null,
   "id": "6c873267",
   "metadata": {},
   "outputs": [],
   "source": [
    "# Use slicing in both directions at once\n",
    "temperatures.iloc[:5, 2:4]"
   ]
  },
  {
   "cell_type": "code",
   "execution_count": null,
   "id": "d45e9465",
   "metadata": {},
   "outputs": [],
   "source": [
    "# Add a year column to temperatures\n",
    "temperatures[\"year\"] = temperatures[\"date\"].dt.year\n",
    "\n",
    "# Pivot avg_temp_c by country and city vs year\n",
    "temp_by_country_city_vs_year = temperatures.pivot_table(\"avg_temp_c\", index = [\"country\", \"city\"], columns = \"year\")\n",
    "\n",
    "# See the result\n",
    "temp_by_country_city_vs_year.head()"
   ]
  },
  {
   "cell_type": "code",
   "execution_count": null,
   "id": "b3b2eb16",
   "metadata": {},
   "outputs": [],
   "source": [
    "# Subset for Egypt to India\n",
    "temp_by_country_city_vs_year.loc[\"Egypt\":\"India\"]"
   ]
  },
  {
   "cell_type": "code",
   "execution_count": null,
   "id": "2271ced1",
   "metadata": {},
   "outputs": [],
   "source": [
    "# Subset for Egypt, Cairo to India, Delhi\n",
    "temp_by_country_city_vs_year.loc[(\"Egypt\", \"Cairo\"):(\"India\", \"Delhi\")]"
   ]
  },
  {
   "cell_type": "code",
   "execution_count": null,
   "id": "c0bc0a23",
   "metadata": {},
   "outputs": [],
   "source": [
    "# Subset in both directions at once\n",
    "temp_by_country_city_vs_year.loc[(\"Egypt\", \"Cairo\"):(\"India\", \"Delhi\"), \"2005\":\"2010\"]"
   ]
  },
  {
   "cell_type": "code",
   "execution_count": null,
   "id": "3221a4df",
   "metadata": {},
   "outputs": [],
   "source": [
    "temp_by_country_city_vs_year.head()"
   ]
  },
  {
   "cell_type": "code",
   "execution_count": null,
   "id": "6d6e46be",
   "metadata": {},
   "outputs": [],
   "source": [
    "# Get the worldwide mean temp by year\n",
    "mean_temp_by_year = temp_by_country_city_vs_year.mean()\n",
    "mean_temp_by_year.head()"
   ]
  },
  {
   "cell_type": "code",
   "execution_count": null,
   "id": "651035c8",
   "metadata": {},
   "outputs": [],
   "source": [
    "# Filter for the year that had the highest mean temp\n",
    "mean_temp_by_year[mean_temp_by_year == mean_temp_by_year.max()]"
   ]
  },
  {
   "cell_type": "code",
   "execution_count": null,
   "id": "cfd2133c",
   "metadata": {},
   "outputs": [],
   "source": [
    "# Get the mean temp by city\n",
    "mean_temp_by_city = temp_by_country_city_vs_year.mean(axis=\"columns\")\n",
    "mean_temp_by_city.head()"
   ]
  },
  {
   "cell_type": "code",
   "execution_count": null,
   "id": "22360e36",
   "metadata": {},
   "outputs": [],
   "source": [
    "# Filter for the city that had the lowest mean temp\n",
    "mean_temp_by_city[mean_temp_by_city == mean_temp_by_city.min()]"
   ]
  },
  {
   "cell_type": "code",
   "execution_count": null,
   "id": "8775e8b6",
   "metadata": {},
   "outputs": [],
   "source": []
  }
 ],
 "metadata": {
  "kernelspec": {
   "display_name": "Python 3 (ipykernel)",
   "language": "python",
   "name": "python3"
  },
  "language_info": {
   "codemirror_mode": {
    "name": "ipython",
    "version": 3
   },
   "file_extension": ".py",
   "mimetype": "text/x-python",
   "name": "python",
   "nbconvert_exporter": "python",
   "pygments_lexer": "ipython3",
   "version": "3.9.7"
  }
 },
 "nbformat": 4,
 "nbformat_minor": 5
}
