{
 "cells": [
  {
   "cell_type": "code",
   "execution_count": 1,
   "id": "8eae8d13",
   "metadata": {},
   "outputs": [],
   "source": [
    "import configparser\n",
    "import boto3\n",
    "import pandas as pd"
   ]
  },
  {
   "cell_type": "markdown",
   "id": "0b4132a3",
   "metadata": {},
   "source": [
    "# Goal 4\n",
    "Create a config file and read the credentials and regions from there."
   ]
  },
  {
   "cell_type": "code",
   "execution_count": 2,
   "id": "88892a50",
   "metadata": {},
   "outputs": [],
   "source": [
    "path=\"\"\n",
    "def load_credentials():\n",
    "    config = configparser.RawConfigParser()\n",
    "    config.read(path+\"config\")\n",
    "    config.read(path+\"credentials\")\n",
    "    \n",
    "    AWS_KEY_ID = config.get('default', 'aws_access_key_id')\n",
    "    AWS_SECRET = config.get('default', 'aws_secret_access_key')\n",
    "    REGION = config.get('default', 'region')\n",
    "    \n",
    "    return AWS_KEY_ID,AWS_SECRET,REGION\n",
    "\n",
    "AWS_KEY_ID,AWS_SECRET,REGION=load_credentials()"
   ]
  },
  {
   "cell_type": "code",
   "execution_count": 3,
   "id": "949dd7c4",
   "metadata": {},
   "outputs": [],
   "source": [
    "# initalize client\n",
    "ec2 = boto3.resource('ec2',aws_access_key_id=AWS_KEY_ID,\n",
    "                          aws_secret_access_key=AWS_SECRET,\n",
    "                          region_name=REGION)\n",
    "\n",
    "client = boto3.client('ec2',\n",
    "                      region_name=REGION,\n",
    "                      aws_access_key_id=AWS_KEY_ID,\n",
    "                      aws_secret_access_key=AWS_SECRET)\n"
   ]
  },
  {
   "cell_type": "markdown",
   "id": "88b5538b",
   "metadata": {},
   "source": [
    "# Goal 1\n",
    "Question this command must answer: What EC2 instances are running|stopped|shutdown?"
   ]
  },
  {
   "cell_type": "code",
   "execution_count": 4,
   "id": "b50e80ab",
   "metadata": {},
   "outputs": [
    {
     "data": {
      "text/html": [
       "<div>\n",
       "<style scoped>\n",
       "    .dataframe tbody tr th:only-of-type {\n",
       "        vertical-align: middle;\n",
       "    }\n",
       "\n",
       "    .dataframe tbody tr th {\n",
       "        vertical-align: top;\n",
       "    }\n",
       "\n",
       "    .dataframe thead th {\n",
       "        text-align: right;\n",
       "    }\n",
       "</style>\n",
       "<table border=\"1\" class=\"dataframe\">\n",
       "  <thead>\n",
       "    <tr style=\"text-align: right;\">\n",
       "      <th></th>\n",
       "      <th>Instance</th>\n",
       "      <th>State</th>\n",
       "    </tr>\n",
       "  </thead>\n",
       "  <tbody>\n",
       "    <tr>\n",
       "      <th>0</th>\n",
       "      <td>i-0b0ac919e7caa75a6</td>\n",
       "      <td>running</td>\n",
       "    </tr>\n",
       "    <tr>\n",
       "      <th>1</th>\n",
       "      <td>i-0d05abb7c4717a3cc</td>\n",
       "      <td>stopped</td>\n",
       "    </tr>\n",
       "  </tbody>\n",
       "</table>\n",
       "</div>"
      ],
      "text/plain": [
       "              Instance    State\n",
       "0  i-0b0ac919e7caa75a6  running\n",
       "1  i-0d05abb7c4717a3cc  stopped"
      ]
     },
     "execution_count": 4,
     "metadata": {},
     "output_type": "execute_result"
    }
   ],
   "source": [
    "def get_ec2_state(ec2,value):\n",
    "    \n",
    "    ec2 = boto3.resource('ec2',aws_access_key_id=AWS_KEY_ID,\n",
    "                          aws_secret_access_key=AWS_SECRET,\n",
    "                          region_name=REGION)\n",
    "    #  can us this list as well ['pending','running','shutting-down','terminated','stopping','stopped']\n",
    "    if value == \"all\":\n",
    "        value = ['running','stopped','terminated']\n",
    "    else:\n",
    "        value = [value]\n",
    "        \n",
    "    instances = ec2.instances.filter(Filters=[{'Name': 'instance-state-name', 'Values':value}])\n",
    "    \n",
    "    instanceId=[]\n",
    "    instanceName=[]\n",
    "    \n",
    "    for instance in instances:\n",
    "        instanceId.append(instance.id)\n",
    "        instanceName.append(instance.state['Name'])\n",
    "        \n",
    "    data={'Instance':instanceId,'State':instanceName}\n",
    "    df=pd.DataFrame(data)\n",
    "    \n",
    "    if len(df)>0:\n",
    "        dataframe=df\n",
    "    else:\n",
    "        dataframe=\"No Instances\"\n",
    "    \n",
    "    return dataframe\n",
    "\n",
    "df_1=get_ec2_state(ec2,\"all\")\n",
    "\n",
    "df_1.head()"
   ]
  },
  {
   "cell_type": "code",
   "execution_count": 5,
   "id": "688ad011",
   "metadata": {},
   "outputs": [
    {
     "data": {
      "text/html": [
       "<div>\n",
       "<style scoped>\n",
       "    .dataframe tbody tr th:only-of-type {\n",
       "        vertical-align: middle;\n",
       "    }\n",
       "\n",
       "    .dataframe tbody tr th {\n",
       "        vertical-align: top;\n",
       "    }\n",
       "\n",
       "    .dataframe thead th {\n",
       "        text-align: right;\n",
       "    }\n",
       "</style>\n",
       "<table border=\"1\" class=\"dataframe\">\n",
       "  <thead>\n",
       "    <tr style=\"text-align: right;\">\n",
       "      <th></th>\n",
       "      <th>Instance</th>\n",
       "      <th>Monitoring</th>\n",
       "    </tr>\n",
       "  </thead>\n",
       "  <tbody>\n",
       "    <tr>\n",
       "      <th>0</th>\n",
       "      <td>i-0b0ac919e7caa75a6</td>\n",
       "      <td>disabled</td>\n",
       "    </tr>\n",
       "    <tr>\n",
       "      <th>1</th>\n",
       "      <td>i-0d05abb7c4717a3cc</td>\n",
       "      <td>disabled</td>\n",
       "    </tr>\n",
       "  </tbody>\n",
       "</table>\n",
       "</div>"
      ],
      "text/plain": [
       "              Instance Monitoring\n",
       "0  i-0b0ac919e7caa75a6   disabled\n",
       "1  i-0d05abb7c4717a3cc   disabled"
      ]
     },
     "execution_count": 5,
     "metadata": {},
     "output_type": "execute_result"
    }
   ],
   "source": [
    "def ec2_monitoring_status(ec2,value):\n",
    "    \n",
    "    if value == \"all\":\n",
    "        value = ['enabled','disabled']\n",
    "    else:\n",
    "        value = [value]\n",
    "        \n",
    "    instances = ec2.instances.filter(\n",
    "    Filters=[{'Name': 'monitoring-state', 'Values':value}])\n",
    "    instanceId=[]\n",
    "    instanceMontr=[]\n",
    "    \n",
    "    for instance in instances:\n",
    "        instanceId.append(instance.id)\n",
    "        instanceMontr.append(instance.monitoring['State'])\n",
    "        \n",
    "    data={'Instance':instanceId,'Monitoring':instanceMontr}\n",
    "    df=pd.DataFrame(data)\n",
    "\n",
    "    if len(df)>0:\n",
    "        dataframe=df\n",
    "    else:\n",
    "        dataframe=\"No Instances\"\n",
    "    \n",
    "    return dataframe\n",
    "df_2=ec2_monitoring_status(ec2,\"all\")\n",
    "\n",
    "df_2.head()"
   ]
  },
  {
   "cell_type": "markdown",
   "id": "cea7204d",
   "metadata": {},
   "source": [
    "# Goal 3\n",
    "Question this command must answer: What EC2 instances are in this region?"
   ]
  },
  {
   "cell_type": "code",
   "execution_count": 9,
   "id": "e2783b4f",
   "metadata": {},
   "outputs": [
    {
     "data": {
      "text/html": [
       "<div>\n",
       "<style scoped>\n",
       "    .dataframe tbody tr th:only-of-type {\n",
       "        vertical-align: middle;\n",
       "    }\n",
       "\n",
       "    .dataframe tbody tr th {\n",
       "        vertical-align: top;\n",
       "    }\n",
       "\n",
       "    .dataframe thead th {\n",
       "        text-align: right;\n",
       "    }\n",
       "</style>\n",
       "<table border=\"1\" class=\"dataframe\">\n",
       "  <thead>\n",
       "    <tr style=\"text-align: right;\">\n",
       "      <th></th>\n",
       "      <th>Instance_ID</th>\n",
       "      <th>Monitoring</th>\n",
       "      <th>State</th>\n",
       "    </tr>\n",
       "  </thead>\n",
       "  <tbody>\n",
       "    <tr>\n",
       "      <th>0</th>\n",
       "      <td>i-0b0ac919e7caa75a6</td>\n",
       "      <td>disabled</td>\n",
       "      <td>running</td>\n",
       "    </tr>\n",
       "    <tr>\n",
       "      <th>1</th>\n",
       "      <td>i-0d05abb7c4717a3cc</td>\n",
       "      <td>disabled</td>\n",
       "      <td>stopped</td>\n",
       "    </tr>\n",
       "  </tbody>\n",
       "</table>\n",
       "</div>"
      ],
      "text/plain": [
       "           Instance_ID Monitoring    State\n",
       "0  i-0b0ac919e7caa75a6   disabled  running\n",
       "1  i-0d05abb7c4717a3cc   disabled  stopped"
      ]
     },
     "execution_count": 9,
     "metadata": {},
     "output_type": "execute_result"
    }
   ],
   "source": [
    "def get_ec2_list(ec2):\n",
    "    \n",
    "    instanceId=[]\n",
    "    instanceMontr=[]\n",
    "    instacestate=[]\n",
    "    for instance in ec2.instances.all():\n",
    "        \n",
    "        instanceId.append(instance.id)\n",
    "        instanceMontr.append(instance.monitoring['State'])\n",
    "        instacestate.append(instance.state['Name'])\n",
    "        \n",
    "    df = pd.DataFrame({\"Instance_ID\":instanceId,\"Monitoring\":instanceMontr,\"State\":instacestate})\n",
    "    \n",
    "    if len(df)>0:\n",
    "        dataframe=df\n",
    "    else:\n",
    "        dataframe=\"No Instances\"\n",
    "    \n",
    "    return dataframe \n",
    "\n",
    "df_3=get_ec2_list(ec2)\n",
    "\n",
    "df_3.head()"
   ]
  },
  {
   "cell_type": "markdown",
   "id": "84e2647f",
   "metadata": {},
   "source": [
    "# Goal 5\n",
    "Question: How many EBS volumes are not in use?"
   ]
  },
  {
   "cell_type": "code",
   "execution_count": 7,
   "id": "ef707708",
   "metadata": {},
   "outputs": [
    {
     "name": "stdout",
     "output_type": "stream",
     "text": [
      "Working for volume with volume_id:  vol-03944e7763bfb1146\n",
      "State of volume:  in-use\n",
      "Attachment state length:  1\n",
      "[{'AttachTime': datetime.datetime(2021, 10, 28, 11, 12, 58, tzinfo=tzutc()), 'Device': '/dev/xvda', 'InstanceId': 'i-0d05abb7c4717a3cc', 'State': 'attached', 'VolumeId': 'vol-03944e7763bfb1146', 'DeleteOnTermination': True}]\n",
      "--------------------------------------------\n",
      "Working for volume with volume_id:  vol-095e31efe67b08a1c\n",
      "State of volume:  in-use\n",
      "Attachment state length:  1\n",
      "[{'AttachTime': datetime.datetime(2021, 10, 28, 11, 15, 1, tzinfo=tzutc()), 'Device': '/dev/xvda', 'InstanceId': 'i-0b0ac919e7caa75a6', 'State': 'attached', 'VolumeId': 'vol-095e31efe67b08a1c', 'DeleteOnTermination': True}]\n",
      "--------------------------------------------\n",
      "[]\n"
     ]
    }
   ],
   "source": [
    "def ebs_volume_unused(client):\n",
    "    \n",
    "    volumes_not_used = list()\n",
    "\n",
    "    volume_detail = client.describe_volumes()\n",
    "\n",
    "    # process each volume in volume_detail\n",
    "    if volume_detail['ResponseMetadata']['HTTPStatusCode'] == 200:\n",
    "        for each_volume in volume_detail['Volumes']:\n",
    "            # some logging to make things clear about the volumes in your existing system\n",
    "            print(\"Working for volume with volume_id: \", each_volume['VolumeId'])\n",
    "            print(\"State of volume: \", each_volume['State'])\n",
    "            print(\"Attachment state length: \", len(each_volume['Attachments']))\n",
    "            print(each_volume['Attachments'])\n",
    "            print(\"--------------------------------------------\")\n",
    "            # figuring out the unused volumes\n",
    "            # the volumes which do not have 'Attachments' key and their state is 'available' is considered to be unused\n",
    "            if len(each_volume['Attachments']) == 0 and each_volume['State'] == 'available':\n",
    "                volumes_not_used.append(each_volume['VolumeId'])\n",
    "                \n",
    "    return volumes_not_used\n",
    "\n",
    "unused_volume=ebs_volume_unused(client)\n",
    "print(unused_volume)"
   ]
  },
  {
   "cell_type": "code",
   "execution_count": 8,
   "id": "56dabcc1",
   "metadata": {},
   "outputs": [
    {
     "name": "stdout",
     "output_type": "stream",
     "text": [
      "VolumeId :in-usein-use\n",
      "VolumeId :in-usein-use\n",
      "['vol-03944e7763bfb1146', 'vol-095e31efe67b08a1c']\n"
     ]
    }
   ],
   "source": [
    "def ebs_volume_unencrypted(client):\n",
    "    \n",
    "    not_encrypted=[]\n",
    "    test =[]\n",
    "    response = client.describe_volumes()\n",
    "    volumelist = response['Volumes']\n",
    "    if type(volumelist) is not list:\n",
    "        test.append(volumelist)\n",
    "    else:\n",
    "        test.extend(volumelist)\n",
    "    for vol in volumelist:\n",
    "        if vol['Encrypted'] == False:\n",
    "            print(\"VolumeId :\"+vol['State']+\"\"+vol['State'])\n",
    "            not_encrypted.append(vol['VolumeId'])\n",
    "    return not_encrypted\n",
    "\n",
    "unecncrypted_volume=ebs_volume_unencrypted(client)\n",
    "print(unecncrypted_volume)"
   ]
  },
  {
   "cell_type": "code",
   "execution_count": null,
   "id": "b9a2263a",
   "metadata": {},
   "outputs": [],
   "source": []
  }
 ],
 "metadata": {
  "kernelspec": {
   "display_name": "Python 3",
   "language": "python",
   "name": "python3"
  },
  "language_info": {
   "codemirror_mode": {
    "name": "ipython",
    "version": 3
   },
   "file_extension": ".py",
   "mimetype": "text/x-python",
   "name": "python",
   "nbconvert_exporter": "python",
   "pygments_lexer": "ipython3",
   "version": "3.8.8"
  }
 },
 "nbformat": 4,
 "nbformat_minor": 5
}
