{
 "cells": [
  {
   "cell_type": "markdown",
   "id": "3c2e216a",
   "metadata": {},
   "source": [
    "# Reading  5000 XML files and getting unique tag names"
   ]
  },
  {
   "cell_type": "code",
   "execution_count": 1,
   "id": "8a71956e",
   "metadata": {},
   "outputs": [],
   "source": [
    "import glob\n",
    "import os\n",
    "from bs4 import BeautifulSoup\n",
    "\n",
    "path='D:/numpylabs_datasource/tmp/1995a_098.xml'"
   ]
  },
  {
   "cell_type": "code",
   "execution_count": 2,
   "id": "9477671b",
   "metadata": {},
   "outputs": [],
   "source": [
    "Path='D:/numpylabs_datasource/tmp/'"
   ]
  },
  {
   "cell_type": "code",
   "execution_count": 4,
   "id": "88b82119",
   "metadata": {},
   "outputs": [],
   "source": [
    "tag_names=[]\n",
    "for filename in glob.glob(os.path.join(Path,\"*.xml\")):\n",
    "    with open(filename) as open_file:\n",
    "        content=open_file.read()\n",
    "        Bs_data = BeautifulSoup(content, \"xml\")\n",
    "        tags=[tag.name for tag in Bs_data.find_all()]\n",
    "        tag_names.extend(tags)\n",
    "    "
   ]
  },
  {
   "cell_type": "code",
   "execution_count": 5,
   "id": "d4aec257",
   "metadata": {},
   "outputs": [
    {
     "data": {
      "text/plain": [
       "429420"
      ]
     },
     "execution_count": 5,
     "metadata": {},
     "output_type": "execute_result"
    }
   ],
   "source": [
    "len(tag_names)"
   ]
  },
  {
   "cell_type": "code",
   "execution_count": 6,
   "id": "57e6a762",
   "metadata": {},
   "outputs": [
    {
     "data": {
      "text/plain": [
       "87"
      ]
     },
     "execution_count": 6,
     "metadata": {},
     "output_type": "execute_result"
    }
   ],
   "source": [
    "len(set(tag_names))"
   ]
  },
  {
   "cell_type": "code",
   "execution_count": 7,
   "id": "640bf9e3",
   "metadata": {},
   "outputs": [],
   "source": [
    "unique_tagnames=set(tag_names)"
   ]
  },
  {
   "cell_type": "code",
   "execution_count": 8,
   "id": "d8dfca3c",
   "metadata": {},
   "outputs": [
    {
     "data": {
      "text/plain": [
       "{'a',\n",
       " 'alias',\n",
       " 'attorneys',\n",
       " 'b',\n",
       " 'backref',\n",
       " 'blob',\n",
       " 'block-quote',\n",
       " 'blockquote',\n",
       " 'body',\n",
       " 'bold',\n",
       " 'br',\n",
       " 'caption',\n",
       " 'case',\n",
       " 'case-caption',\n",
       " 'case-citation-line',\n",
       " 'case-value-add',\n",
       " 'citation',\n",
       " 'continue-para',\n",
       " 'court',\n",
       " 'court-opinion',\n",
       " 'court-opinions',\n",
       " 'date',\n",
       " 'div',\n",
       " 'docket-num',\n",
       " 'dockets',\n",
       " 'espec',\n",
       " 'fill',\n",
       " 'fraction',\n",
       " 'ftnote',\n",
       " 'ftnote-ref',\n",
       " 'graphic',\n",
       " 'graphic-caption',\n",
       " 'group',\n",
       " 'h4',\n",
       " 'h5',\n",
       " 'h6',\n",
       " 'head',\n",
       " 'heading',\n",
       " 'headnote',\n",
       " 'history-line',\n",
       " 'hr',\n",
       " 'html',\n",
       " 'i',\n",
       " 'italic',\n",
       " 'item',\n",
       " 'judge',\n",
       " 'judges',\n",
       " 'key-phrase',\n",
       " 'li',\n",
       " 'ol',\n",
       " 'ordered-list',\n",
       " 'p',\n",
       " 'para',\n",
       " 'pspec',\n",
       " 'query-phrase',\n",
       " 'quote',\n",
       " 'relevance-modifiers',\n",
       " 'ruling',\n",
       " 'ruling-caption',\n",
       " 'ruling-citation-line',\n",
       " 'ruling-text',\n",
       " 'ruling-value-add',\n",
       " 'search-segment',\n",
       " 'searchtext',\n",
       " 'side-head',\n",
       " 'small-cap',\n",
       " 'strike',\n",
       " 'sub',\n",
       " 'sup',\n",
       " 'superscript',\n",
       " 'table',\n",
       " 'table-group',\n",
       " 'td',\n",
       " 'text-para',\n",
       " 'th',\n",
       " 'title',\n",
       " 'topic',\n",
       " 'tr',\n",
       " 'u',\n",
       " 'ul',\n",
       " 'underline',\n",
       " 'wkext-meta-attr',\n",
       " 'wkext-meta-attrs',\n",
       " 'wkext-meta-object',\n",
       " 'wkext-metadata',\n",
       " 'wrapper',\n",
       " 'xref'}"
      ]
     },
     "execution_count": 8,
     "metadata": {},
     "output_type": "execute_result"
    }
   ],
   "source": [
    "unique_tagnames"
   ]
  },
  {
   "cell_type": "code",
   "execution_count": null,
   "id": "f0436d45",
   "metadata": {},
   "outputs": [],
   "source": []
  }
 ],
 "metadata": {
  "kernelspec": {
   "display_name": "Python 3",
   "language": "python",
   "name": "python3"
  },
  "language_info": {
   "codemirror_mode": {
    "name": "ipython",
    "version": 3
   },
   "file_extension": ".py",
   "mimetype": "text/x-python",
   "name": "python",
   "nbconvert_exporter": "python",
   "pygments_lexer": "ipython3",
   "version": "3.8.8"
  }
 },
 "nbformat": 4,
 "nbformat_minor": 5
}
