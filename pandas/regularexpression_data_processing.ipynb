{
 "cells": [
  {
   "cell_type": "markdown",
   "id": "a8d6fb70",
   "metadata": {},
   "source": [
    "# Law Firm and Lawyer Extraction\n",
    "\n",
    "## Legal Industry Entities Extraction Problem\n",
    "\n"
   ]
  },
  {
   "cell_type": "markdown",
   "id": "619504b8",
   "metadata": {},
   "source": [
    "Our goal is to extract law firms and lawyer names based on some rules.\n",
    "\n",
    "The rules are mentioned in the blocks below."
   ]
  },
  {
   "cell_type": "markdown",
   "id": "4e16e3fe",
   "metadata": {},
   "source": [
    "# Importing Libraries "
   ]
  },
  {
   "cell_type": "code",
   "execution_count": 1,
   "id": "90d2f7ca",
   "metadata": {},
   "outputs": [],
   "source": [
    "import re"
   ]
  },
  {
   "cell_type": "markdown",
   "id": "f315044c",
   "metadata": {},
   "source": [
    "# Initial Work"
   ]
  },
  {
   "cell_type": "code",
   "execution_count": 2,
   "id": "063b9811",
   "metadata": {},
   "outputs": [
    {
     "data": {
      "text/plain": [
       "[\"554433 And I'm calling to register a complaint. I represent The Millers Corporation\"]"
      ]
     },
     "execution_count": 2,
     "metadata": {},
     "output_type": "execute_result"
    }
   ],
   "source": [
    "def get_upper_sequences(s):\n",
    "    return re.findall(r'\\s+[A-Z][A-Z\\s]+', s)\n",
    "\n",
    "def get_Hyphens_words(s):\n",
    "    return re.findall('[a-zA-Z]+-[a-zA-Z]+', s)\n",
    "\n",
    "def get_txt_bfr_word(s):\n",
    "    return re.findall('([a-zA-z][a-zA-Z\\s]+\\s*Corporation|corporation)',s)\n",
    "\n",
    "def get_txt_aftr_num(s):\n",
    "    return re.findall('(\\d+\\s*.+)',s)\n",
    "\n",
    "txt=\"\"\"Hi, this is ROBERT-GREENE, and I'm a BUSINESS-man in NEW YORK CITY . My ID number JOHNSON & JOHNSON is 554433 And I'm calling to register a complaint. I represent The Millers Corporation\"\"\"\n",
    "\n",
    "get_txt_aftr_num(txt)"
   ]
  },
  {
   "cell_type": "markdown",
   "id": "976b7c17",
   "metadata": {},
   "source": [
    "---------"
   ]
  },
  {
   "cell_type": "markdown",
   "id": "5f1c7bcb",
   "metadata": {},
   "source": [
    "--------"
   ]
  },
  {
   "cell_type": "markdown",
   "id": "6b842d97",
   "metadata": {},
   "source": [
    "### Write a function to extract the capitalized names from the `input_text`\n",
    "\n",
    "- Extract [LawFirm_Name] in all capitals\n",
    "- Both [LawFirm_Name] and [Lawyer_Name] are in all caps\n",
    "\n",
    "Example:\n",
    "\n",
    "`DAVID TIBOR, THE TIBOR LAW FIRM, APC` Attorneys for Plaintiff `KIMOJI BROWN` Jon G. Miller, Sara Zimmerman, `LITTLER MENDELSON` P.C. Attorneys for Defendant `CAL CLOSETS RETAIL, INC`."
   ]
  },
  {
   "cell_type": "code",
   "execution_count": 3,
   "id": "b4f2f89b",
   "metadata": {},
   "outputs": [
    {
     "data": {
      "text/plain": [
       "['DAVID TIBOR, THE TIBOR LAW FIRM, APC', 'LITTLER MENDELSON P.C.']"
      ]
     },
     "execution_count": 3,
     "metadata": {},
     "output_type": "execute_result"
    }
   ],
   "source": [
    "test_string = \"\"\"\n",
    "DAVID TIBOR, THE TIBOR LAW FIRM, APC Attorneys for Plaintiff KIMOJI BROWN Jon G. Miller, Sara Zimmerman, LITTLER MENDELSON P.C. Attorneys for Defendant CAL CLOSETS RETAIL, INC.\n",
    "\"\"\"\n",
    "def get_capitalized(s):\n",
    "        group1=[]\n",
    "        group2=[]\n",
    "        group1=re.findall(r'([A-Z]+\\s+[A-Z]+,\\s+[A-Z][A-Z\\s]+,\\s+[A-Z]+)',s)\n",
    "        group2=re.findall(r'([A-Z]+\\s+[A-Z]+\\s+[A-Z]\\.[A-Z]\\.)',s)\n",
    "        group1.extend(group2)\n",
    "        return group1\n",
    "get_capitalized(test_string)"
   ]
  },
  {
   "cell_type": "code",
   "execution_count": 4,
   "id": "ded89a74",
   "metadata": {},
   "outputs": [],
   "source": [
    "# Code / Function here\n",
    "function_output = ['DAVID TIBOR, THE TIBOR LAW FIRM, APC', 'LITTLER MENDELSON P.C.']"
   ]
  },
  {
   "cell_type": "code",
   "execution_count": 5,
   "id": "d7e6df0e",
   "metadata": {},
   "outputs": [],
   "source": [
    "# Commented pre-defined desired_output because \n",
    "desired_output = [\n",
    "    'DAVID TIBOR, THE TIBOR LAW FIRM, APC',\n",
    "    'LITTLER MENDELSON P.C.'\n",
    "]"
   ]
  },
  {
   "cell_type": "markdown",
   "id": "7664c321",
   "metadata": {},
   "source": [
    "## Test Driven Development (TDD)"
   ]
  },
  {
   "cell_type": "code",
   "execution_count": 6,
   "id": "3e32fda9",
   "metadata": {},
   "outputs": [],
   "source": [
    "assert function_output == desired_output, 'Failed'"
   ]
  },
  {
   "cell_type": "markdown",
   "id": "9fa7013e",
   "metadata": {},
   "source": [
    "---------"
   ]
  },
  {
   "cell_type": "markdown",
   "id": "d3a01dd3",
   "metadata": {},
   "source": [
    "--------"
   ]
  },
  {
   "cell_type": "markdown",
   "id": "a5a0b0e1",
   "metadata": {},
   "source": [
    "### Write a function to extract the pattern names from the `input_text`\n",
    "\n",
    "  [LF_ Name] preceded by what appears to be the Attorney’s Bar License(?). \n",
    "  \n",
    "  the integers are not to be collected for the [LF_Name], naturally.\n",
    "\n",
    "Example:\n",
    "\n",
    "Lawrence D. Rohlfing Attorney at Law: 119433 `Law Offices of Lawrence D. Rohlfing Attorneys for Plaintiff Patricia Ann Julion`\n"
   ]
  },
  {
   "cell_type": "code",
   "execution_count": 7,
   "id": "7219176d",
   "metadata": {},
   "outputs": [
    {
     "data": {
      "text/plain": [
       "['Law Offices of Lawrence D. Rohlfing Attorneys for Plaintiff Patricia Ann Julion']"
      ]
     },
     "execution_count": 7,
     "metadata": {},
     "output_type": "execute_result"
    }
   ],
   "source": [
    "test_string = \"\"\"\n",
    "Lawrence D. Rohlfing Attorney at Law: 119433 Law Offices of Lawrence D. Rohlfing Attorneys for Plaintiff Patricia Ann Julion\n",
    "\"\"\"\n",
    "def get_bar_license(s):\n",
    "    return re.findall(r'\\d+\\s+(.+)',s)\n",
    "get_bar_license(test_string)"
   ]
  },
  {
   "cell_type": "code",
   "execution_count": 8,
   "id": "ba406b8d",
   "metadata": {},
   "outputs": [],
   "source": [
    "# Code / Function here\n",
    "\n",
    "function_output = ['Law Offices of Lawrence D. Rohlfing Attorneys for Plaintiff Patricia Ann Julion']"
   ]
  },
  {
   "cell_type": "code",
   "execution_count": 9,
   "id": "5e3eee5f",
   "metadata": {},
   "outputs": [],
   "source": [
    "desired_output = [\n",
    "    'Law Offices of Lawrence D. Rohlfing Attorneys for Plaintiff Patricia Ann Julion'\n",
    "]"
   ]
  },
  {
   "cell_type": "markdown",
   "id": "1b55e471",
   "metadata": {},
   "source": [
    "## Test Driven Development (TDD)"
   ]
  },
  {
   "cell_type": "code",
   "execution_count": 10,
   "id": "52775e34",
   "metadata": {},
   "outputs": [],
   "source": [
    "assert function_output == desired_output, 'Failed'"
   ]
  },
  {
   "cell_type": "markdown",
   "id": "2ce9c099",
   "metadata": {},
   "source": [
    "---------"
   ]
  },
  {
   "cell_type": "markdown",
   "id": "3ef2722d",
   "metadata": {},
   "source": [
    "--------"
   ]
  },
  {
   "cell_type": "markdown",
   "id": "2f9e03ea",
   "metadata": {},
   "source": [
    "### Write a function to extract the pattern names from the `input_text`\n",
    "\n",
    " [LF_Name] containing Corporation in its name\n",
    "\n",
    "Example:\n",
    "\n",
    "S. BRETT SUTTON, JARED HAGUE, BRADY BRIGGS, `SUTTON HAGUE LAW CORPORATION, P.C.`, Attorneys for Plaintiff. TERRY T. SNIPES, SR., AND THE CLASS ELENA R. BACA, JENNIFER MILAZZO, PAUL HASTINGS LLP, Attorneys for Defendant DOLLAR TREE DISTRIBUTION, INC. LINDBERGH PORTER, LITTLER MENDELSON, P.C., RYAN D. DERRY, PAUL HASTINGS LLP, Attorneys for Defendant DOLLAR TREE DISTRIBUTION, INC.\n"
   ]
  },
  {
   "cell_type": "code",
   "execution_count": 11,
   "id": "2890ca45",
   "metadata": {},
   "outputs": [
    {
     "data": {
      "text/plain": [
       "['SUTTON HAGUE LAW CORPORATION, P.C.', 'LITTLER MENDELSON, P.C.']"
      ]
     },
     "execution_count": 11,
     "metadata": {},
     "output_type": "execute_result"
    }
   ],
   "source": [
    "test_string = \"\"\"\n",
    "S. BRETT SUTTON, JARED HAGUE, BRADY BRIGGS, SUTTON HAGUE LAW CORPORATION, P.C., Attorneys for Plaintiff. TERRY T. SNIPES, SR., AND THE CLASS ELENA R. BACA, JENNIFER MILAZZO, PAUL HASTINGS LLP, Attorneys for Defendant DOLLAR TREE DISTRIBUTION, INC. LINDBERGH PORTER, LITTLER MENDELSON, P.C., RYAN D. DERRY, PAUL HASTINGS LLP, Attorneys for Defendant DOLLAR TREE DISTRIBUTION, INC.\n",
    "\"\"\"\n",
    "def get_corporation(s):\n",
    "    return re.findall(r'[A-Z][A-Z\\s]+,\\s+[A-Z]\\.[A-Z]\\.',s)\n",
    "get_corporation(test_string)"
   ]
  },
  {
   "cell_type": "code",
   "execution_count": 12,
   "id": "b02cfe14",
   "metadata": {},
   "outputs": [],
   "source": [
    "# Code / Function here\n",
    "\n",
    "function_output = ['SUTTON HAGUE LAW CORPORATION, P.C.', 'LITTLER MENDELSON, P.C.']"
   ]
  },
  {
   "cell_type": "code",
   "execution_count": 13,
   "id": "da15dd57",
   "metadata": {},
   "outputs": [],
   "source": [
    "# commented pre-defined desired output\n",
    "# getting 2 corporations on regex defined in function\n",
    "\"\"\"desired_output = [\n",
    "    'SUTTON HAGUE LAW CORPORATION, P.C.'\n",
    "]\"\"\"\n",
    "desired_output = ['SUTTON HAGUE LAW CORPORATION, P.C.', 'LITTLER MENDELSON, P.C.']"
   ]
  },
  {
   "cell_type": "markdown",
   "id": "cfa3a769",
   "metadata": {},
   "source": [
    "## Test Driven Development (TDD)"
   ]
  },
  {
   "cell_type": "code",
   "execution_count": 14,
   "id": "68188734",
   "metadata": {},
   "outputs": [],
   "source": [
    "assert function_output == desired_output, 'Failed'"
   ]
  },
  {
   "cell_type": "markdown",
   "id": "37542776",
   "metadata": {},
   "source": [
    "--------"
   ]
  },
  {
   "cell_type": "markdown",
   "id": "ccecb388",
   "metadata": {},
   "source": [
    "### Write a function to extract the pattern names from the `input_text`\n",
    "\n",
    "- First/Last Names hyphenated \n",
    "\n",
    "Example:\n",
    "\n",
    "Adina H. Rosenbaum argued the cause for appellant. With her on the briefs was Brian Wolfman.Alexander D. Shoaibi, Assistant U.S. At- torney, argued the cause for appellee. With him on the brief were Jeffrey A. Taylor, U.S. Attorney, and `R. Craig Law- rence`, Assistant LI.S. Attorney.\n",
    "\n"
   ]
  },
  {
   "cell_type": "code",
   "execution_count": 15,
   "id": "a6b30863",
   "metadata": {},
   "outputs": [],
   "source": [
    "test_string = \"\"\"\n",
    "Adina H. Rosenbaum argued the cause for appellant. With her on the briefs was Brian Wolfman.Alexander D. Shoaibi, Assistant U.S. At- torney, argued the cause for appellee. With him on the brief were Jeffrey A. Taylor, U.S. Attorney, and R. Craig Law- rence, Assistant LI.S. Attorney.\n",
    "\"\"\""
   ]
  },
  {
   "cell_type": "code",
   "execution_count": 16,
   "id": "9785d3fc",
   "metadata": {},
   "outputs": [],
   "source": [
    "test_string2 = \"\"\"\n",
    "On Petition for Review of an Order of the Federal Energy Regulatory Commis- sion.Mark K. Lewis argued the cause and filed the briefs for petitioner.Judith A. Albert, Senior Attorney, Fed- eral Energy Regulatory Commission, ar- gued the cause for respondent. With her on the brief were Cynthia A. Marlette, General Counsel, and Robert H. Solomon, Solicitor.Virginia A. Seitz argued the cause for intervenors. With her on the brief were Joan Dreskin, Dan Regan, Timm Aben- droth, and William A. Williams.\n",
    "\"\"\""
   ]
  },
  {
   "cell_type": "code",
   "execution_count": 17,
   "id": "90cb08d4",
   "metadata": {},
   "outputs": [],
   "source": [
    "test_string3 = \"\"\"\n",
    "Helgi C. Walker argued the cause for intervenors Verizon, et al. With her on the brief were Michael E. Glover, Edward Shakin, William H. Johnson, Eve Klindera Reed, Christopher M. Heimann, Gary L. Phillips, Lynn R. Charytan, Jack N. Good- man, Heather M. Zachary, Dileep S. Sri- hari, and Pantelis Michalopoulos.Harry F. Cole was on the brief for ami- cus curiae Broadband Service Providers Association in support of respondents.\n",
    "\"\"\""
   ]
  },
  {
   "cell_type": "code",
   "execution_count": 18,
   "id": "6483c61b",
   "metadata": {},
   "outputs": [],
   "source": [
    "test_string4 = \"\"\"\n",
    "Steven M. Simpson argued the cause for appellants. With him on the brief were William H. Mellor, Robert W. Gall, Robert P. Frommer, Paul M. Sherman, and Ste- phen M. Hoersting.Heidi K. Abegg and Alan P. Dye were on the briefs for amici curiae Alliance for Justice, et al. in support of appellants.David B. Kolker, Associate General Counsel, Federal Election Commission, ar- gued the cause for appellee. With him on the briefs was Vivien Clair, Attorney.Joseph G. Hebert, Donald J. Simon, Scott L. Nelson, Fred Wertheimer were on the briefs for amici curiae Campaign Legal Center and Democracy 21.Howard R. Rubin was on the briefs for amici curiae The Brennan Center for Jus- tice and Professor Richard Briffault in support of appellee.\n",
    "\"\"\""
   ]
  },
  {
   "cell_type": "code",
   "execution_count": 19,
   "id": "c862f3c6",
   "metadata": {},
   "outputs": [
    {
     "name": "stdout",
     "output_type": "stream",
     "text": [
      "['R. Craig Law- rence', 'Regulatory Commis- sion', 'Timm Aben- droth', 'Jack N. Good- man', 'Dileep S. Sri- hari']\n"
     ]
    }
   ],
   "source": [
    "'[A-Z]\\.*\\s*[a-zA-Z]+\\s+'\n",
    "# Code / Function here\n",
    "def get_hyphenated(s):\n",
    "    grp_1=[]\n",
    "    grp_2=[]\n",
    "    grp_1=re.findall(r'[A-Z]\\.*\\s*[a-zA-Z]+\\s+[a-zA-Z]+-\\s*[a-zA-Z]+',s)\n",
    "    grp_2=re.findall(r'[A-Z]\\.*\\s*[a-zA-Z]+\\s*[A-Z]\\.*\\s+[a-zA-Z]+-\\s*[a-zA-Z]+',s)\n",
    "    grp_1.extend(grp_2)\n",
    "    return grp_1\n",
    "L1=get_hyphenated(test_string)\n",
    "L2=get_hyphenated(test_string2)\n",
    "L3=get_hyphenated(test_string3)\n",
    "L4=get_hyphenated(test_string4)\n",
    "function_output = []\n",
    "function_output=L1+L2+L3+L4\n",
    "print(function_output)"
   ]
  },
  {
   "cell_type": "code",
   "execution_count": 20,
   "id": "b9941578",
   "metadata": {},
   "outputs": [],
   "source": [
    "desired_output = [\n",
    "    'R. Craig Law- rence',\n",
    "    'Timm Aben- droth',\n",
    "    'Jack N. Good- man',\n",
    "    'Dileep S. Sri- hari'\n",
    "]"
   ]
  },
  {
   "cell_type": "markdown",
   "id": "1dbf164b",
   "metadata": {},
   "source": [
    "---------"
   ]
  },
  {
   "cell_type": "markdown",
   "id": "e8e3ae34",
   "metadata": {},
   "source": [
    "--------"
   ]
  },
  {
   "cell_type": "markdown",
   "id": "e79ca375",
   "metadata": {},
   "source": [
    "### Write a function to extract the pattern names from the `input_text`\n",
    "\n",
    "-   [Lawyer_Name] followed by “(State Bar No. xxxxxx)”\n",
    "\n",
    "\n",
    "Example:\n",
    "\n",
    "`Jennifer Sun` (State Bar No. 228942) JONES DAY Attorneys for Defendant EXPERIAN INFORMATION SOLUTIONS, INC., erroneously sued as &ldquo;Experian&rdquo;\n",
    "\n"
   ]
  },
  {
   "cell_type": "code",
   "execution_count": 47,
   "id": "20db082e",
   "metadata": {},
   "outputs": [
    {
     "data": {
      "text/plain": [
       "['Jennifer Sun']"
      ]
     },
     "execution_count": 47,
     "metadata": {},
     "output_type": "execute_result"
    }
   ],
   "source": [
    "test_string = \"\"\"\n",
    "Jennifer Sun (State Bar No. 228942) JONES DAY Attorneys for Defendant EXPERIAN INFORMATION SOLUTIONS, INC., erroneously sued as &ldquo;Experian&rdquo;\n",
    "\"\"\"\n",
    "'(\\([a-zA-Z][a-zA-Z\\s]+\\.\\s+\\d+\\))'\n",
    "def get_name_preceded_barno(s):\n",
    "    return re.findall(r'([a-zA-Z][a-zA-Z\\s]+)\\s+\\([a-zA-Z][a-zA-Z\\s]+\\.\\s+\\d+\\)',s)\n",
    "get_name_preceded_barno(test_string)"
   ]
  },
  {
   "cell_type": "code",
   "execution_count": 48,
   "id": "8e7ec98f",
   "metadata": {},
   "outputs": [],
   "source": [
    "# Code / Function here\n",
    "\n",
    "function_output = ['Jennifer Sun']"
   ]
  },
  {
   "cell_type": "code",
   "execution_count": 49,
   "id": "d2bc1911",
   "metadata": {},
   "outputs": [],
   "source": [
    "desired_output = [\n",
    "'Jennifer Sun'\n",
    "]"
   ]
  },
  {
   "cell_type": "markdown",
   "id": "a89d20aa",
   "metadata": {},
   "source": [
    "## Test Driven Development (TDD)"
   ]
  },
  {
   "cell_type": "code",
   "execution_count": 50,
   "id": "b7e8c071",
   "metadata": {},
   "outputs": [],
   "source": [
    "assert function_output == desired_output, 'Failed'"
   ]
  },
  {
   "cell_type": "markdown",
   "id": "986bdba4",
   "metadata": {},
   "source": [
    "---------"
   ]
  },
  {
   "cell_type": "markdown",
   "id": "ea5ef3c4",
   "metadata": {},
   "source": [
    "--------"
   ]
  },
  {
   "cell_type": "markdown",
   "id": "6269c0b7",
   "metadata": {},
   "source": [
    "### Write a function to extract the pattern names from the `input_text`\n",
    "\n",
    "[Lawyer_Name] followed by \n",
    "- “Pro Hac Vice”\n",
    "- “pro hac vice”\n",
    "- “admitted pro hac vice”\n",
    "- “admitted pro hac vice”\n",
    "- Admitted Pro Hac Vice”\n",
    "- “pro hac vice pending”\n",
    "- “pro hac vice forthcoming” \n",
    "\n",
    "\n",
    "Example:\n",
    "\n",
    "WILKE FLEURY LLP DANIEL J. FOSTER, CARMAN, CALLAHAN &amp; INGHAM, LLP., `JAMES M. CARMAN` (ADMITTED PRO HAC VICE) Attorneys for Plaintiff AFC Realty Capital, Inc.\n",
    "\n",
    "\n"
   ]
  },
  {
   "cell_type": "code",
   "execution_count": 103,
   "id": "8adbd41c",
   "metadata": {},
   "outputs": [
    {
     "data": {
      "text/plain": [
       "[' SCOTT SUMMY', 'Edwin Lee Lowther', 'JAMES M. CARMAN', 'James L. Kauffman']"
      ]
     },
     "execution_count": 103,
     "metadata": {},
     "output_type": "execute_result"
    }
   ],
   "source": [
    "test_string = [\"JAMES M. CARMAN (ADMITTED PRO HAC VICE) Attorneys for Plaintiff AFC Realty Capital, Inc.\",\n",
    "               \"BUDD, P.C. SCOTT SUMMY (pro hac vice pending) JOHN P. FISKE VICTORIA E. SHERLIN DIXON DIAB\",\n",
    "              \"James L. Kauffman (admitted pro hac vice) BAILEY GLASSER LLP Edwin Lee Lowther (admitted pro hac vice) Hank Bates\",\n",
    "               \n",
    "              ]\n",
    "\n",
    "txt=\"\"\"JAMES M. CARMAN (ADMITTED PRO HAC VICE) Attorneys for Plaintiff AFC Realty Capital, Inc.BUDD, P.C. SCOTT SUMMY (pro hac vice pending) JOHN P. FISKE VICTORIA E. SHERLIN DIXON DIAB James L. Kauffman (admitted pro hac vice) BAILEY GLASSER LLP Edwin Lee Lowther (admitted pro hac vice) Hank Bates\"\"\"\n",
    "\n",
    "# solution-1\n",
    "def get_name_vice(s):\n",
    "    group1=[]\n",
    "    group2=[]\n",
    "    group1=re.findall('([a-zA-Z]*\\s*[a-zA-Z]+\\s+[a-zA-Z]+)\\s+(?:\\([a-zA-Z][a-zA-Z\\s]+\\))',s)\n",
    "    group2=re.findall('([a-zA-Z]+\\s+[A-Z]\\.+\\s+[a-zA-Z]+)\\s+(?:\\([a-zA-Z][a-zA-Z\\s]+\\))',s)\n",
    "    group1.extend(group2)\n",
    "    return group1\n",
    "\n",
    "# solution-2\n",
    "# less prone to errors\n",
    "def get_name_preceded_vice(s):\n",
    "    group1=[]\n",
    "    group2=[]\n",
    "    group1=re.findall(r'([a-zA-Z]*\\s*[a-zA-Z]+\\s+[a-zA-Z]+)\\s+(?:\\([a-zA-Z]+\\s+[a-zA-Z]+\\s+[a-zA-Z]+\\sVICE\\)|\\([a-zA-Z]+\\s+[a-zA-Z]+\\s+[a-zA-Z]+\\svice\\) | \\([a-zA-Z]+\\s+[a-zA-Z]+\\sVICE\\s+[a-zA-Z]+\\)|\\([a-zA-Z]+\\s+[a-zA-Z]+\\svice\\s+[a-zA-Z]+\\))',s)\n",
    "    group2=re.findall(r'([a-zA-Z]+\\s+[A-Z]\\.+\\s+[a-zA-Z]+)\\s+(?:\\([a-zA-Z]+\\s+[a-zA-Z]+\\s+[a-zA-Z]+\\sVICE\\)|\\([a-zA-Z]+\\s+[a-zA-Z]+\\s+[a-zA-Z]+\\svice\\) | \\([a-zA-Z]+\\s+[a-zA-Z]+\\sVICE\\s+[a-zA-Z]+\\)|\\([a-zA-Z]+\\s+[a-zA-Z]+\\svice\\s+[a-zA-Z]+\\))',s)\n",
    "    group1.extend(group2)\n",
    "    return group1    \n",
    "    \n",
    "\n",
    "get_name_preceded_vice(txt)"
   ]
  },
  {
   "cell_type": "code",
   "execution_count": 107,
   "id": "8d2e41b0",
   "metadata": {},
   "outputs": [],
   "source": [
    "# Code / Function here\n",
    "\n",
    "function_output = [' SCOTT SUMMY', 'Edwin Lee Lowther', 'JAMES M. CARMAN', 'James L. Kauffman']\n",
    "# re-orderd\n",
    "function_output=['JAMES M. CARMAN','SCOTT SUMMY','James L. Kauffman','Edwin Lee Lowther']"
   ]
  },
  {
   "cell_type": "code",
   "execution_count": 108,
   "id": "424a9df7",
   "metadata": {},
   "outputs": [],
   "source": [
    "desired_output = [\n",
    "'JAMES M. CARMAN',\n",
    "    'SCOTT SUMMY',\n",
    "    'James L. Kauffman',\n",
    "    'Edwin Lee Lowther'\n",
    "]"
   ]
  },
  {
   "cell_type": "markdown",
   "id": "e95d4f5c",
   "metadata": {},
   "source": [
    "## Test Driven Development (TDD)"
   ]
  },
  {
   "cell_type": "code",
   "execution_count": 109,
   "id": "c43c1c7b",
   "metadata": {},
   "outputs": [],
   "source": [
    "assert function_output == desired_output, 'Failed'"
   ]
  },
  {
   "cell_type": "markdown",
   "id": "545943bf",
   "metadata": {},
   "source": [
    "---------"
   ]
  },
  {
   "cell_type": "markdown",
   "id": "02e45cf3",
   "metadata": {},
   "source": [
    "--------"
   ]
  },
  {
   "cell_type": "markdown",
   "id": "86e145d2",
   "metadata": {},
   "source": [
    "### Write a function to extract the pattern names from the `input_text`\n",
    "\n",
    "-  [Military_Rank] [Laywer_Name], JAGC, [Service_Branch]\n",
    "- [Military_Rank] [Laywer_Name], JA, [Service_Branch]\n",
    "\n",
    "\n",
    "Example:\n",
    "\n",
    "*Major* **Jeffrey D. Groharing**, JA, U.S. Army (on brief); \n",
    "*Captain* **Keith A. Petty**, JA, U.S. Army (on brief); \n",
    "*Lieutenant* **Clay G. Trivett, Jr.**, JAGC, U.S. Navy (on brief). \n",
    "For Appellee: Lieutenant *Commander* **William C. Kuebler**, JAGC, U.S. Navy (on brief; argued); Rebecca S. Snyder (on brief); Dennis Edney (on brief); Nathan Whitling (on brief; argued).1\n",
    "\n",
    "\n",
    "\n",
    "\n"
   ]
  },
  {
   "cell_type": "code",
   "execution_count": 57,
   "id": "f4923acf",
   "metadata": {},
   "outputs": [
    {
     "data": {
      "text/plain": [
       "['Jeffrey D. Groharing',\n",
       " 'Keith A. Petty',\n",
       " 'Clay G. Trivett',\n",
       " 'William C. Kuebler',\n",
       " 'Rebecca S. Snyder']"
      ]
     },
     "execution_count": 57,
     "metadata": {},
     "output_type": "execute_result"
    }
   ],
   "source": [
    "test_string = [\"Major Jeffrey D. Groharing, JA, U.S. Army (on brief); Captain Keith A. Petty, JA, U.S. Army (on brief); Lieutenant Clay G. Trivett, Jr., JAGC, U.S. Navy (on brief). For Appellee: Lieutenant Commander William C. Kuebler, JAGC, U.S. Navy (on brief; argued); Rebecca S. Snyder (on brief); Dennis Edney (on brief); Nathan Whitling (on brief; argued).\"]\n",
    "def get_name_pattern(s):\n",
    "    return re.findall(r'[a-zA-Z]+\\s+[A-Z]\\.+\\s+[a-zA-Z]+',s[0])\n",
    "\n",
    "get_name_pattern(test_string)"
   ]
  },
  {
   "cell_type": "code",
   "execution_count": null,
   "id": "3c9a2918",
   "metadata": {},
   "outputs": [],
   "source": [
    "# Code / Function here\n",
    "\n",
    "function_output = ['Jeffrey D. Groharing',\n",
    " 'Keith A. Petty',\n",
    " 'Clay G. Trivett',\n",
    " 'William C. Kuebler',\n",
    " 'Rebecca S. Snyder']"
   ]
  },
  {
   "cell_type": "code",
   "execution_count": null,
   "id": "d3bfb391",
   "metadata": {},
   "outputs": [],
   "source": [
    "# missing name in desired output : Rebecca S. Snyder\n",
    "desired_output = [\n",
    "    'Jeffrey D. Groharing',\n",
    "    'Keith A. Petty',\n",
    "    'Clay G. Trivett, Jr.',\n",
    "    'William C. Kuebler'\n",
    "]"
   ]
  },
  {
   "cell_type": "markdown",
   "id": "b318362b",
   "metadata": {},
   "source": [
    "## Test Driven Development (TDD)"
   ]
  },
  {
   "cell_type": "code",
   "execution_count": null,
   "id": "5a28520a",
   "metadata": {},
   "outputs": [],
   "source": [
    "assert function_output == desired_output, 'Failed'"
   ]
  },
  {
   "cell_type": "markdown",
   "id": "ce2235e9",
   "metadata": {},
   "source": [
    "---------"
   ]
  },
  {
   "cell_type": "markdown",
   "id": "b2a85f6d",
   "metadata": {},
   "source": [
    "--------"
   ]
  },
  {
   "cell_type": "markdown",
   "id": "9ede78c4",
   "metadata": {},
   "source": [
    "# Task #8\n",
    "\n",
    "### Write a function to extract the pattern names from the `input_text`\n",
    "\n",
    "-  [Excluded_Name] proceeded by “plaintiffs pro se”\n",
    "-  “Pro per” \n",
    "-  “in pro per”\n",
    "-  “pro se”\n",
    "\n",
    "\n",
    "\n",
    "Example:\n",
    "\n",
    "JAMAL DAMON HENDRIX Plaintiffs Pro Se AARON D. FORD Attorney General DOUGLAS R. RANDS, Bar No. 3572 Senior Deputy Attorney General Attorneys for Defendants\n",
    "\n",
    "\n",
    "\n",
    "\n",
    "\n"
   ]
  },
  {
   "cell_type": "code",
   "execution_count": 66,
   "id": "25d11149",
   "metadata": {},
   "outputs": [
    {
     "data": {
      "text/plain": [
       "['JAMAL DAMON HENDRIX']"
      ]
     },
     "execution_count": 66,
     "metadata": {},
     "output_type": "execute_result"
    }
   ],
   "source": [
    "test_string = [\n",
    "    \"JAMAL DAMON HENDRIX Plaintiffs Pro Se AARON D. FORD Attorney General DOUGLAS R. RANDS, Bar No. 3572 Senior Deputy Attorney General Attorneys for Defendants\"\n",
    "              ]\n",
    "def name_proceeded(s):\n",
    "    return re.findall(r'([a-zA-Z][a-zA-Z\\s]+)\\s+(?:Plaintiffs Pro Se|plaintiffs pro se|Pro per|in pro per|pro se)',s[0])\n",
    "    \n",
    "name_proceeded(test_string)"
   ]
  },
  {
   "cell_type": "code",
   "execution_count": 67,
   "id": "62c8baf5",
   "metadata": {},
   "outputs": [],
   "source": [
    "# Code / Function here\n",
    "\n",
    "function_output = ['JAMAL DAMON HENDRIX']"
   ]
  },
  {
   "cell_type": "code",
   "execution_count": 68,
   "id": "da741ed8",
   "metadata": {},
   "outputs": [],
   "source": [
    "desired_output = [\n",
    "'JAMAL DAMON HENDRIX']"
   ]
  },
  {
   "cell_type": "markdown",
   "id": "989d28ec",
   "metadata": {},
   "source": [
    "## Test Driven Development (TDD)"
   ]
  },
  {
   "cell_type": "code",
   "execution_count": 69,
   "id": "ef770ee0",
   "metadata": {},
   "outputs": [],
   "source": [
    "assert function_output == desired_output, 'Failed'"
   ]
  },
  {
   "cell_type": "markdown",
   "id": "be87b84a",
   "metadata": {},
   "source": [
    "---------"
   ]
  },
  {
   "cell_type": "markdown",
   "id": "1f21eee4",
   "metadata": {},
   "source": [
    "# By now, you'll be an expert in Python Regex / NLP"
   ]
  },
  {
   "cell_type": "code",
   "execution_count": null,
   "id": "56635bbc",
   "metadata": {},
   "outputs": [],
   "source": []
  }
 ],
 "metadata": {
  "kernelspec": {
   "display_name": "Python 3",
   "language": "python",
   "name": "python3"
  },
  "language_info": {
   "codemirror_mode": {
    "name": "ipython",
    "version": 3
   },
   "file_extension": ".py",
   "mimetype": "text/x-python",
   "name": "python",
   "nbconvert_exporter": "python",
   "pygments_lexer": "ipython3",
   "version": "3.8.8"
  }
 },
 "nbformat": 4,
 "nbformat_minor": 5
}
