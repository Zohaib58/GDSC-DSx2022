{
 "cells": [
  {
   "cell_type": "markdown",
   "id": "38cfa1f4",
   "metadata": {},
   "source": [
    "# Data Ingestion | Phase 1"
   ]
  },
  {
   "cell_type": "markdown",
   "id": "b3e25e14",
   "metadata": {},
   "source": [
    "We need to set up an Ingestion pipeline with streaming data coming in via **Amazon Kinesis**. \n",
    "\n",
    "We need to process the data in **Lambda function** and eventually store the JSON data in a **DynamoDB Table**."
   ]
  },
  {
   "cell_type": "markdown",
   "id": "e0195fa7",
   "metadata": {},
   "source": [
    "We'll be creating the Amazon Kinesis Data Stream, Lambda and DynamoDB table from the **AWS Console** initially.\n",
    "\n",
    "Note: At the end of this Notebook, we need **CloudFormation Template** that automates this."
   ]
  },
  {
   "cell_type": "markdown",
   "id": "95a40066",
   "metadata": {},
   "source": [
    "\n",
    "### As a data engineer, I need to set up a Kinesis Stream (named FastKinesis) from the AWS Console\n",
    "\n",
    "Use `boto3` to verify if the stream is actually created (TDD)\n",
    "\n",
    "#### Important: use the minimum possible Shards (1)"
   ]
  },
  {
   "cell_type": "code",
   "execution_count": 1,
   "id": "c238a987",
   "metadata": {},
   "outputs": [
    {
     "name": "stdout",
     "output_type": "stream",
     "text": [
      "['FastKinesis']\n"
     ]
    }
   ],
   "source": [
    "# import boto3\n",
    "import boto3\n",
    "# boto3.client('kinesis')\n",
    "datastream = boto3.client('kinesis',\n",
    "                          aws_access_key_id=AWS_KEY_ID,\n",
    "                          aws_secret_access_key=AWS_SECRET,\n",
    "                          region_name=REGION)\n",
    "#some_list = boto3.get_streams()\n",
    "response = datastream.list_streams()\n",
    "\n",
    "# assert 'FastKinesis' in some_list\n",
    "print(response['StreamNames'])"
   ]
  },
  {
   "cell_type": "markdown",
   "id": "361e869f",
   "metadata": {},
   "source": [
    "### As a data engineer, I need to create `Kinesis class` with relevant functions to interact with the stream\n",
    "\n",
    "#### Important: Use Boto3\n"
   ]
  },
  {
   "cell_type": "markdown",
   "id": "727e08e5",
   "metadata": {},
   "source": [
    "# Example:"
   ]
  },
  {
   "cell_type": "code",
   "execution_count": 17,
   "id": "84064fe0",
   "metadata": {},
   "outputs": [],
   "source": [
    "class Kinesis:\n",
    "    STREAM_NAME = 'stream'\n",
    "    \n",
    "    def __init__(self):\n",
    "        pass\n",
    "        \n",
    "    def send_data(self, stream_name, data):\n",
    "        print(stream_name, data)"
   ]
  },
  {
   "cell_type": "code",
   "execution_count": 22,
   "id": "a60d3985",
   "metadata": {},
   "outputs": [],
   "source": [
    "import time\n",
    "\n",
    "def iam_producer():\n",
    "    \"\"\"I'm a producer and I generate data every 500ms\"\"\"\n",
    "    kinesis = Kinesis()\n",
    "    for i in range(10):\n",
    "        time.sleep(0.5)\n",
    "        kinesis.send_data(STREAM_NAME, 'someJSONdata')"
   ]
  },
  {
   "cell_type": "code",
   "execution_count": 23,
   "id": "f2e48cd9",
   "metadata": {},
   "outputs": [
    {
     "name": "stdout",
     "output_type": "stream",
     "text": [
      "stream someJSONdata\n",
      "stream someJSONdata\n",
      "stream someJSONdata\n",
      "stream someJSONdata\n",
      "stream someJSONdata\n",
      "stream someJSONdata\n",
      "stream someJSONdata\n",
      "stream someJSONdata\n",
      "stream someJSONdata\n",
      "stream someJSONdata\n"
     ]
    }
   ],
   "source": [
    "iam_producer()"
   ]
  },
  {
   "cell_type": "markdown",
   "id": "40061170",
   "metadata": {},
   "source": [
    "## Test Driven Development"
   ]
  },
  {
   "cell_type": "markdown",
   "id": "4dfe5148",
   "metadata": {},
   "source": [
    "Send the data using the Class & Functions to your Stream.\n",
    "\n",
    "Verify the data by getting the same data back using Functions in the Kinesis class.\n",
    "\n",
    "Rely on boto3 for all interactions with AWS (but feel free to find better libraries for kinesis)"
   ]
  },
  {
   "cell_type": "code",
   "execution_count": 2,
   "id": "e3b9393b",
   "metadata": {},
   "outputs": [],
   "source": [
    "import json,uuid\n",
    "\n",
    "class KinesisStream(object):\n",
    "    \n",
    "    def __init__(self, stream):\n",
    "        self.stream = stream\n",
    "\n",
    "    def _connected_client(self):\n",
    "        \"\"\" Connect to Kinesis Streams \"\"\"\n",
    "        return boto3.client('kinesis',\n",
    "                            region_name=REGION,\n",
    "                            aws_access_key_id=AWS_KEY_ID,\n",
    "                            aws_secret_access_key=AWS_SECRET)\n",
    "\n",
    "    def send_stream(self, data,partition_key=None):\n",
    "        \n",
    "        if partition_key == None:\n",
    "            partition_key = uuid.uuid4()\n",
    "\n",
    "        client = self._connected_client()\n",
    "        return client.put_record(\n",
    "            StreamName=self.stream,\n",
    "            Data=json.dumps(data),\n",
    "            PartitionKey=str(partition_key)\n",
    "        )"
   ]
  },
  {
   "cell_type": "code",
   "execution_count": 4,
   "id": "2d4925fb",
   "metadata": {},
   "outputs": [
    {
     "data": {
      "text/plain": [
       "{'ShardId': 'shardId-000000000000',\n",
       " 'SequenceNumber': '49623169493734310862053045190958577595106604881782243330',\n",
       " 'ResponseMetadata': {'RequestId': 'e62f11c6-f2f3-2d80-bfc5-e0ba309033b3',\n",
       "  'HTTPStatusCode': 200,\n",
       "  'HTTPHeaders': {'x-amzn-requestid': 'e62f11c6-f2f3-2d80-bfc5-e0ba309033b3',\n",
       "   'x-amz-id-2': '6KcE/4OT6I/Rcxmpe091VkwxhWikcM9ObrakrYfGKdrps1aNAqQirH9ffdobb0RHA+B3fFzXSUjADA+dTq8K0MFhyNpWGCEd',\n",
       "   'date': 'Thu, 21 Oct 2021 04:40:28 GMT',\n",
       "   'content-type': 'application/x-amz-json-1.1',\n",
       "   'content-length': '110'},\n",
       "  'RetryAttempts': 0}}"
      ]
     },
     "execution_count": 4,
     "metadata": {},
     "output_type": "execute_result"
    }
   ],
   "source": [
    "data = {'Name': 'Hamza'}\n",
    "stream = KinesisStream('FastKinesis')\n",
    "stream.send_stream(data=data)"
   ]
  },
  {
   "cell_type": "markdown",
   "id": "0fe55dd9",
   "metadata": {},
   "source": [
    "### As a data engineer, I need to create a Lambda function from the console that consumes the Kinesis Stream. "
   ]
  },
  {
   "cell_type": "markdown",
   "id": "6f1fc4e0",
   "metadata": {},
   "source": [
    "Create the Lambda function via AWS Console, and verify by boto3 by getting the list of functions.\n",
    "\n",
    "**TDD: Your function name must be in the list returned by boto3**\n",
    "\n",
    "Hint: Make sure the region is us-east-1 in your console and boto3 configurations"
   ]
  },
  {
   "cell_type": "code",
   "execution_count": 72,
   "id": "9ba7187a",
   "metadata": {},
   "outputs": [
    {
     "name": "stdout",
     "output_type": "stream",
     "text": [
      "kinesis_consumer\n"
     ]
    }
   ],
   "source": [
    "lambda_funcs=boto3.client('lambda',\n",
    "                          aws_access_key_id=AWS_KEY_ID,\n",
    "                          aws_secret_access_key=AWS_SECRET,\n",
    "                          region_name=REGION)\n",
    "\n",
    "response = lambda_funcs.list_functions()\n",
    "print(response['Functions'][0]['FunctionName'])"
   ]
  },
  {
   "cell_type": "markdown",
   "id": "6e18547d",
   "metadata": {},
   "source": [
    "\n",
    "\n",
    "### As a data engineer, I need to create a DynamoDB table via AWS Console\n",
    "\n",
    "the table \"People\" will have two columns 1) first_name 2) last_name\n",
    "\n",
    "Important: use minimum possible RCU and WCUs"
   ]
  },
  {
   "cell_type": "markdown",
   "id": "804cbb96",
   "metadata": {},
   "source": [
    "## Test Driven Development"
   ]
  },
  {
   "cell_type": "markdown",
   "id": "c5c321a6",
   "metadata": {},
   "source": [
    "use boto3 DynamoDB client to verify the table is created.\n",
    "\n",
    "Only when the boto3 returns the table name this task is done."
   ]
  },
  {
   "cell_type": "code",
   "execution_count": 8,
   "id": "a876416d",
   "metadata": {},
   "outputs": [
    {
     "name": "stdout",
     "output_type": "stream",
     "text": [
      "['People', 'student']\n"
     ]
    }
   ],
   "source": [
    "dynamo_client=boto3.client('dynamodb',aws_access_key_id=AWS_KEY_ID,\n",
    "                          aws_secret_access_key=AWS_SECRET,\n",
    "                          region_name=REGION)\n",
    "response=dynamo_client.list_tables()\n",
    "print(response['TableNames'])"
   ]
  },
  {
   "cell_type": "markdown",
   "id": "f2d992a1",
   "metadata": {},
   "source": [
    "# Task # 6\n",
    "\n",
    "### As a data engineer, I need to create a DynamoDB class with functions to handle basic CRUD operations"
   ]
  },
  {
   "cell_type": "code",
   "execution_count": 43,
   "id": "1e130acf",
   "metadata": {},
   "outputs": [],
   "source": [
    "class DynamoDB_Helper:\n",
    "    def __init__(self, table,region,AWS_KEY_ID,AWS_SECRET):\n",
    "        self.table = table\n",
    "        self.region = region\n",
    "        self.AWS_KEY_ID = AWS_KEY_ID\n",
    "        self.AWS_SECRET = AWS_SECRET\n",
    "        \n",
    "    def dynamoDB_table_connection(self):\n",
    "        dynamodb = boto3.resource('dynamodb',aws_access_key_id=self.AWS_KEY_ID,\n",
    "                                             aws_secret_access_key=self.AWS_SECRET,\n",
    "                                             region_name=self.region)\n",
    "        return dynamodb.Table(self.table)\n",
    "    \n",
    "    def dynamoDB_put(self,data):\n",
    "        \n",
    "        table=self.dynamoDB_table_connection()\n",
    "        \n",
    "        table.put_item(Item=data)\n",
    "        \n",
    "    def dynamoDB_get(self,key):\n",
    "        \n",
    "        table=self.dynamoDB_table_connection()\n",
    "        \n",
    "        response = table.get_item(\n",
    "        Key=key\n",
    "        )\n",
    "        \n",
    "        item = response['Item']\n",
    "        \n",
    "        return item\n",
    "    \n",
    "    def dynamoDB_update(self,pk,update_key,val):\n",
    "        \n",
    "        table=self.dynamoDB_table_connection()\n",
    "        \n",
    "        table.update_item(\n",
    "        Key=pk,\n",
    "        UpdateExpression='SET {} = :val1'.format(update_key),\n",
    "        ExpressionAttributeValues={\n",
    "        ':val1': val\n",
    "        }\n",
    "        )\n",
    "        \n",
    "    def dynamoDB_delete(self,delete_key):\n",
    "        \n",
    "        table=self.dynamoDB_table_connection()\n",
    "        \n",
    "        table.delete_item(\n",
    "        Key=delete_key\n",
    "        )\n",
    "        "
   ]
  },
  {
   "cell_type": "code",
   "execution_count": 46,
   "id": "f4247087",
   "metadata": {},
   "outputs": [],
   "source": [
    "data={'first_name': 'Lionel','last_name': 'Messi',}\n",
    "search_key={'first_name': 'Jane',}\n",
    "dynamoDB = DynamoDB_Helper('People','us-east-1',AWS_KEY_ID,AWS_SECRET)\n",
    "dynamoDB.dynamoDB_put(data=data)\n",
    "a=dynamoDB.dynamoDB_get(key=search_key)\n",
    "print(a)\n",
    "dynamoDB.dynamoDB_update(search_key,'last_name','new')\n",
    "dynamoDB.dynamoDB_delete(search_key)"
   ]
  }
 ],
 "metadata": {
  "kernelspec": {
   "display_name": "Python 3",
   "language": "python",
   "name": "python3"
  },
  "language_info": {
   "codemirror_mode": {
    "name": "ipython",
    "version": 3
   },
   "file_extension": ".py",
   "mimetype": "text/x-python",
   "name": "python",
   "nbconvert_exporter": "python",
   "pygments_lexer": "ipython3",
   "version": "3.8.8"
  }
 },
 "nbformat": 4,
 "nbformat_minor": 5
}
